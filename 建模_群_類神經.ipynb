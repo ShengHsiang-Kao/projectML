{
 "cells": [
  {
   "cell_type": "code",
   "execution_count": 1,
   "metadata": {},
   "outputs": [
    {
     "name": "stderr",
     "output_type": "stream",
     "text": [
      "Using TensorFlow backend.\n"
     ]
    }
   ],
   "source": [
    "from keras.datasets import boston_housing\n",
    "from keras.datasets import reuters\n",
    "import numpy as np\n",
    "import os\n",
    "import tensorflow as tf\n",
    "from keras import models\n",
    "from keras import layers\n",
    "from keras import optimizers\n",
    "from keras import losses\n",
    "from keras import metrics\n",
    "import matplotlib.pyplot as plt\n",
    "import time\n",
    "import pandas as pd\n",
    "import random\n",
    "from sklearn.utils import shuffle\n",
    "from sklearn.model_selection import cross_validate\n",
    "from sklearn.model_selection import train_test_split\n",
    "from keras.optimizers import Adam,Adagrad"
   ]
  },
  {
   "cell_type": "code",
   "execution_count": 2,
   "metadata": {
    "scrolled": true
   },
   "outputs": [
    {
     "data": {
      "text/plain": [
       "1687"
      ]
     },
     "execution_count": 2,
     "metadata": {},
     "output_type": "execute_result"
    }
   ],
   "source": [
    "df = pd.read_excel(r'C:\\Users\\Big data\\Desktop\\class\\funcardproject\\斷詞與和卡額度_20群.xls',encoding='utf-16')\n",
    "df = df.loc[:, [\"age\",\"serveTime\",\"credLimit\",\"Loan\",\"SalPerY\",\"holdCard\",\"Career\",\"credLimit_group\"]] \n",
    "len(df)"
   ]
  },
  {
   "cell_type": "code",
   "execution_count": 3,
   "metadata": {
    "scrolled": true
   },
   "outputs": [],
   "source": [
    "df =df.dropna(\n",
    "    axis=0,     # 0: 对行进行操作; 1: 对列进行操作\n",
    "    how='any'   # 'any': 只要存在 NaN 就 drop 掉; 'all': 必须全部是 NaN 才 drop \n",
    "    ) "
   ]
  },
  {
   "cell_type": "code",
   "execution_count": 4,
   "metadata": {},
   "outputs": [],
   "source": [
    "df['credLimit_group'] = df['credLimit_group'].astype('int')"
   ]
  },
  {
   "cell_type": "code",
   "execution_count": 5,
   "metadata": {
    "scrolled": true
   },
   "outputs": [
    {
     "name": "stdout",
     "output_type": "stream",
     "text": [
      "<class 'pandas.core.frame.DataFrame'>\n",
      "Int64Index: 1680 entries, 0 to 1686\n",
      "Data columns (total 8 columns):\n",
      "age                1680 non-null float64\n",
      "serveTime          1680 non-null float64\n",
      "credLimit          1680 non-null int64\n",
      "Loan               1680 non-null float64\n",
      "SalPerY            1680 non-null int64\n",
      "holdCard           1680 non-null int64\n",
      "Career             1680 non-null int64\n",
      "credLimit_group    1680 non-null int32\n",
      "dtypes: float64(3), int32(1), int64(4)\n",
      "memory usage: 111.6 KB\n"
     ]
    }
   ],
   "source": [
    "df.info()"
   ]
  },
  {
   "cell_type": "code",
   "execution_count": 6,
   "metadata": {},
   "outputs": [
    {
     "name": "stdout",
     "output_type": "stream",
     "text": [
      "(1176, 6)\n",
      "(504, 6)\n",
      "(1176, 1)\n",
      "(504, 1)\n"
     ]
    }
   ],
   "source": [
    "#先打散資料(三次)\n",
    "for i in range(3):\n",
    "    df = shuffle(df)\n",
    "#再切成訓練與測試\n",
    "train_data, test_data, train_targets, test_targets = train_test_split(df.loc[:, [\"age\",\"serveTime\",\"Loan\",\"SalPerY\",\"holdCard\",\"Career\"]] , df.loc[:, [\"credLimit_group\"]] , test_size=0.3)\n",
    "print(train_data.shape)\n",
    "print(test_data.shape)\n",
    "print(train_targets.shape)\n",
    "print(test_targets.shape)"
   ]
  },
  {
   "cell_type": "code",
   "execution_count": 7,
   "metadata": {},
   "outputs": [],
   "source": [
    "#轉array\n",
    "train_data = np.array(train_data).astype(float)\n",
    "test_data = np.array(test_data).astype(float)\n",
    "train_targets = np.array(train_targets).astype(int)\n",
    "test_targets = np.array(test_targets).astype(int)\n"
   ]
  },
  {
   "cell_type": "code",
   "execution_count": 8,
   "metadata": {},
   "outputs": [],
   "source": [
    "def to_one_hot(labels, dimension=20):\n",
    "    results = np.zeros((len(labels),dimension))\n",
    "    for i,label in enumerate(labels):\n",
    "        results[i,label]=1.\n",
    "    return results\n",
    "train_targets = to_one_hot(train_targets)\n",
    "test_targets = to_one_hot(test_targets)"
   ]
  },
  {
   "cell_type": "code",
   "execution_count": 9,
   "metadata": {
    "scrolled": true
   },
   "outputs": [
    {
     "name": "stdout",
     "output_type": "stream",
     "text": [
      "(1176, 6)\n",
      "(504, 6)\n",
      "(1176, 20)\n",
      "(504, 20)\n"
     ]
    }
   ],
   "source": [
    "print(train_data.shape)\n",
    "print(test_data.shape)\n",
    "print(train_targets.shape)\n",
    "print(test_targets.shape)"
   ]
  },
  {
   "cell_type": "markdown",
   "metadata": {},
   "source": [
    "# 正規化(例如本資料serveTime與SalPerY不同單位且數值差異甚大,因此需轉為標準差)"
   ]
  },
  {
   "cell_type": "code",
   "execution_count": 10,
   "metadata": {
    "scrolled": true
   },
   "outputs": [],
   "source": [
    "# 懶人正規化??????????????????????\n",
    "mean = train_data.mean(axis=0)\n",
    "train_data -=mean\n",
    "std = train_data.std(axis=0)\n",
    "train_data/=std\n",
    "test_data-=mean\n",
    "test_data/=std\n"
   ]
  },
  {
   "cell_type": "markdown",
   "metadata": {},
   "source": [
    "# 建立模型"
   ]
  },
  {
   "cell_type": "code",
   "execution_count": 11,
   "metadata": {},
   "outputs": [],
   "source": [
    "#模型定義\n",
    "model = models.Sequential()\n",
    "model.add(layers.Dense(30, activation='relu',input_shape=(6 , )))\n",
    "model.add(layers.Dense(25, activation='relu'))\n",
    "model.add(layers.Dense(20, activation='relu'))\n",
    "\n",
    "\n",
    "\n",
    "\n",
    "model.add(layers.Dense(20, activation='softmax'))"
   ]
  },
  {
   "cell_type": "code",
   "execution_count": 12,
   "metadata": {},
   "outputs": [],
   "source": [
    "\n",
    "model.compile(optimizer=optimizers.RMSprop(lr=0.0001, rho=0.9),\n",
    "              loss='categorical_crossentropy',\n",
    "             metrics=['accuracy'])"
   ]
  },
  {
   "cell_type": "code",
   "execution_count": 13,
   "metadata": {
    "scrolled": false
   },
   "outputs": [
    {
     "name": "stdout",
     "output_type": "stream",
     "text": [
      "Model: \"sequential_1\"\n",
      "_________________________________________________________________\n",
      "Layer (type)                 Output Shape              Param #   \n",
      "=================================================================\n",
      "dense_1 (Dense)              (None, 30)                210       \n",
      "_________________________________________________________________\n",
      "dense_2 (Dense)              (None, 25)                775       \n",
      "_________________________________________________________________\n",
      "dense_3 (Dense)              (None, 20)                520       \n",
      "_________________________________________________________________\n",
      "dense_4 (Dense)              (None, 20)                420       \n",
      "=================================================================\n",
      "Total params: 1,925\n",
      "Trainable params: 1,925\n",
      "Non-trainable params: 0\n",
      "_________________________________________________________________\n"
     ]
    }
   ],
   "source": [
    "model.summary()"
   ]
  },
  {
   "cell_type": "code",
   "execution_count": 14,
   "metadata": {
    "scrolled": true
   },
   "outputs": [
    {
     "name": "stdout",
     "output_type": "stream",
     "text": [
      "Train on 1176 samples, validate on 504 samples\n",
      "Epoch 1/200\n",
      "1176/1176 [==============================] - 0s 290us/step - loss: 2.9679 - accuracy: 0.1148 - val_loss: 2.8811 - val_accuracy: 0.1726\n",
      "Epoch 2/200\n",
      "1176/1176 [==============================] - 0s 212us/step - loss: 2.8089 - accuracy: 0.1871 - val_loss: 2.7245 - val_accuracy: 0.1905\n",
      "Epoch 3/200\n",
      "1176/1176 [==============================] - 0s 214us/step - loss: 2.6409 - accuracy: 0.2032 - val_loss: 2.5468 - val_accuracy: 0.1984\n",
      "Epoch 4/200\n",
      "1176/1176 [==============================] - 0s 219us/step - loss: 2.4540 - accuracy: 0.2058 - val_loss: 2.3571 - val_accuracy: 0.2024\n",
      "Epoch 5/200\n",
      "1176/1176 [==============================] - 0s 213us/step - loss: 2.2683 - accuracy: 0.2058 - val_loss: 2.1775 - val_accuracy: 0.2024\n",
      "Epoch 6/200\n",
      "1176/1176 [==============================] - 0s 212us/step - loss: 2.1062 - accuracy: 0.2364 - val_loss: 2.0291 - val_accuracy: 0.2798\n",
      "Epoch 7/200\n",
      "1176/1176 [==============================] - 0s 212us/step - loss: 1.9863 - accuracy: 0.3146 - val_loss: 1.9309 - val_accuracy: 0.3274\n",
      "Epoch 8/200\n",
      "1176/1176 [==============================] - 0s 219us/step - loss: 1.9100 - accuracy: 0.3478 - val_loss: 1.8717 - val_accuracy: 0.3254\n",
      "Epoch 9/200\n",
      "1176/1176 [==============================] - 0s 217us/step - loss: 1.8628 - accuracy: 0.3537 - val_loss: 1.8348 - val_accuracy: 0.3294\n",
      "Epoch 10/200\n",
      "1176/1176 [==============================] - 0s 213us/step - loss: 1.8310 - accuracy: 0.3503 - val_loss: 1.8103 - val_accuracy: 0.3313\n",
      "Epoch 11/200\n",
      "1176/1176 [==============================] - 0s 212us/step - loss: 1.8069 - accuracy: 0.3486 - val_loss: 1.7928 - val_accuracy: 0.3214\n",
      "Epoch 12/200\n",
      "1176/1176 [==============================] - 0s 217us/step - loss: 1.7879 - accuracy: 0.3614 - val_loss: 1.7801 - val_accuracy: 0.3313\n",
      "Epoch 13/200\n",
      "1176/1176 [==============================] - 0s 215us/step - loss: 1.7728 - accuracy: 0.3631 - val_loss: 1.7713 - val_accuracy: 0.3274\n",
      "Epoch 14/200\n",
      "1176/1176 [==============================] - 0s 212us/step - loss: 1.7605 - accuracy: 0.3648 - val_loss: 1.7648 - val_accuracy: 0.3254\n",
      "Epoch 15/200\n",
      "1176/1176 [==============================] - 0s 215us/step - loss: 1.7499 - accuracy: 0.3699 - val_loss: 1.7584 - val_accuracy: 0.3254\n",
      "Epoch 16/200\n",
      "1176/1176 [==============================] - 0s 217us/step - loss: 1.7407 - accuracy: 0.3682 - val_loss: 1.7544 - val_accuracy: 0.3333\n",
      "Epoch 17/200\n",
      "1176/1176 [==============================] - 0s 212us/step - loss: 1.7328 - accuracy: 0.3699 - val_loss: 1.7507 - val_accuracy: 0.3353\n",
      "Epoch 18/200\n",
      "1176/1176 [==============================] - 0s 218us/step - loss: 1.7267 - accuracy: 0.3690 - val_loss: 1.7482 - val_accuracy: 0.3373\n",
      "Epoch 19/200\n",
      "1176/1176 [==============================] - 0s 209us/step - loss: 1.7201 - accuracy: 0.3716 - val_loss: 1.7452 - val_accuracy: 0.3393\n",
      "Epoch 20/200\n",
      "1176/1176 [==============================] - 0s 219us/step - loss: 1.7136 - accuracy: 0.3682 - val_loss: 1.7442 - val_accuracy: 0.3393\n",
      "Epoch 21/200\n",
      "1176/1176 [==============================] - 0s 223us/step - loss: 1.7084 - accuracy: 0.3793 - val_loss: 1.7433 - val_accuracy: 0.3373\n",
      "Epoch 22/200\n",
      "1176/1176 [==============================] - 0s 225us/step - loss: 1.7033 - accuracy: 0.3784 - val_loss: 1.7400 - val_accuracy: 0.3353\n",
      "Epoch 23/200\n",
      "1176/1176 [==============================] - 0s 236us/step - loss: 1.6983 - accuracy: 0.3733 - val_loss: 1.7376 - val_accuracy: 0.3393\n",
      "Epoch 24/200\n",
      "1176/1176 [==============================] - 0s 213us/step - loss: 1.6944 - accuracy: 0.3767 - val_loss: 1.7361 - val_accuracy: 0.3353\n",
      "Epoch 25/200\n",
      "1176/1176 [==============================] - 0s 233us/step - loss: 1.6905 - accuracy: 0.3741 - val_loss: 1.7356 - val_accuracy: 0.3333\n",
      "Epoch 26/200\n",
      "1176/1176 [==============================] - 0s 214us/step - loss: 1.6868 - accuracy: 0.3707 - val_loss: 1.7350 - val_accuracy: 0.3333\n",
      "Epoch 27/200\n",
      "1176/1176 [==============================] - 0s 225us/step - loss: 1.6836 - accuracy: 0.3741 - val_loss: 1.7322 - val_accuracy: 0.3353\n",
      "Epoch 28/200\n",
      "1176/1176 [==============================] - 0s 228us/step - loss: 1.6806 - accuracy: 0.3767 - val_loss: 1.7318 - val_accuracy: 0.3313\n",
      "Epoch 29/200\n",
      "1176/1176 [==============================] - 0s 209us/step - loss: 1.6768 - accuracy: 0.3776 - val_loss: 1.7316 - val_accuracy: 0.3313\n",
      "Epoch 30/200\n",
      "1176/1176 [==============================] - 0s 224us/step - loss: 1.6751 - accuracy: 0.3810 - val_loss: 1.7302 - val_accuracy: 0.3313\n",
      "Epoch 31/200\n",
      "1176/1176 [==============================] - 0s 222us/step - loss: 1.6708 - accuracy: 0.3776 - val_loss: 1.7315 - val_accuracy: 0.3313\n",
      "Epoch 32/200\n",
      "1176/1176 [==============================] - 0s 223us/step - loss: 1.6697 - accuracy: 0.3810 - val_loss: 1.7299 - val_accuracy: 0.3353\n",
      "Epoch 33/200\n",
      "1176/1176 [==============================] - 0s 217us/step - loss: 1.6664 - accuracy: 0.3759 - val_loss: 1.7277 - val_accuracy: 0.3313\n",
      "Epoch 34/200\n",
      "1176/1176 [==============================] - 0s 229us/step - loss: 1.6648 - accuracy: 0.3818 - val_loss: 1.7272 - val_accuracy: 0.3254\n",
      "Epoch 35/200\n",
      "1176/1176 [==============================] - 0s 215us/step - loss: 1.6618 - accuracy: 0.3818 - val_loss: 1.7273 - val_accuracy: 0.3274\n",
      "Epoch 36/200\n",
      "1176/1176 [==============================] - 0s 217us/step - loss: 1.6599 - accuracy: 0.3801 - val_loss: 1.7258 - val_accuracy: 0.3175\n",
      "Epoch 37/200\n",
      "1176/1176 [==============================] - 0s 212us/step - loss: 1.6585 - accuracy: 0.3810 - val_loss: 1.7260 - val_accuracy: 0.3155\n",
      "Epoch 38/200\n",
      "1176/1176 [==============================] - 0s 214us/step - loss: 1.6564 - accuracy: 0.3835 - val_loss: 1.7259 - val_accuracy: 0.3194\n",
      "Epoch 39/200\n",
      "1176/1176 [==============================] - 0s 237us/step - loss: 1.6543 - accuracy: 0.3861 - val_loss: 1.7260 - val_accuracy: 0.3194\n",
      "Epoch 40/200\n",
      "1176/1176 [==============================] - 0s 211us/step - loss: 1.6526 - accuracy: 0.3818 - val_loss: 1.7256 - val_accuracy: 0.3175\n",
      "Epoch 41/200\n",
      "1176/1176 [==============================] - 0s 213us/step - loss: 1.6512 - accuracy: 0.3801 - val_loss: 1.7256 - val_accuracy: 0.3155\n",
      "Epoch 42/200\n",
      "1176/1176 [==============================] - 0s 212us/step - loss: 1.6492 - accuracy: 0.3801 - val_loss: 1.7231 - val_accuracy: 0.3135\n",
      "Epoch 43/200\n",
      "1176/1176 [==============================] - 0s 225us/step - loss: 1.6475 - accuracy: 0.3827 - val_loss: 1.7254 - val_accuracy: 0.3115\n",
      "Epoch 44/200\n",
      "1176/1176 [==============================] - 0s 217us/step - loss: 1.6461 - accuracy: 0.3801 - val_loss: 1.7226 - val_accuracy: 0.3175\n",
      "Epoch 45/200\n",
      "1176/1176 [==============================] - 0s 216us/step - loss: 1.6446 - accuracy: 0.3801 - val_loss: 1.7233 - val_accuracy: 0.3115\n",
      "Epoch 46/200\n",
      "1176/1176 [==============================] - 0s 225us/step - loss: 1.6428 - accuracy: 0.3810 - val_loss: 1.7218 - val_accuracy: 0.3155\n",
      "Epoch 47/200\n",
      "1176/1176 [==============================] - 0s 230us/step - loss: 1.6414 - accuracy: 0.3835 - val_loss: 1.7226 - val_accuracy: 0.3115\n",
      "Epoch 48/200\n",
      "1176/1176 [==============================] - 0s 214us/step - loss: 1.6397 - accuracy: 0.3793 - val_loss: 1.7216 - val_accuracy: 0.3135\n",
      "Epoch 49/200\n",
      "1176/1176 [==============================] - 0s 216us/step - loss: 1.6392 - accuracy: 0.3844 - val_loss: 1.7211 - val_accuracy: 0.3135\n",
      "Epoch 50/200\n",
      "1176/1176 [==============================] - 0s 228us/step - loss: 1.6379 - accuracy: 0.3801 - val_loss: 1.7214 - val_accuracy: 0.3175\n",
      "Epoch 51/200\n",
      "1176/1176 [==============================] - 0s 232us/step - loss: 1.6368 - accuracy: 0.3835 - val_loss: 1.7200 - val_accuracy: 0.3155\n",
      "Epoch 52/200\n",
      "1176/1176 [==============================] - 0s 223us/step - loss: 1.6356 - accuracy: 0.3835 - val_loss: 1.7189 - val_accuracy: 0.3115\n",
      "Epoch 53/200\n",
      "1176/1176 [==============================] - 0s 228us/step - loss: 1.6351 - accuracy: 0.3886 - val_loss: 1.7189 - val_accuracy: 0.3115\n",
      "Epoch 54/200\n",
      "1176/1176 [==============================] - 0s 212us/step - loss: 1.6336 - accuracy: 0.3852 - val_loss: 1.7193 - val_accuracy: 0.3095\n",
      "Epoch 55/200\n",
      "1176/1176 [==============================] - 0s 218us/step - loss: 1.6326 - accuracy: 0.3886 - val_loss: 1.7198 - val_accuracy: 0.3135\n",
      "Epoch 56/200\n"
     ]
    },
    {
     "name": "stdout",
     "output_type": "stream",
     "text": [
      "1176/1176 [==============================] - 0s 211us/step - loss: 1.6315 - accuracy: 0.3861 - val_loss: 1.7200 - val_accuracy: 0.3135\n",
      "Epoch 57/200\n",
      "1176/1176 [==============================] - 0s 216us/step - loss: 1.6299 - accuracy: 0.3844 - val_loss: 1.7197 - val_accuracy: 0.3075\n",
      "Epoch 58/200\n",
      "1176/1176 [==============================] - 0s 235us/step - loss: 1.6290 - accuracy: 0.3835 - val_loss: 1.7184 - val_accuracy: 0.3075\n",
      "Epoch 59/200\n",
      "1176/1176 [==============================] - 0s 218us/step - loss: 1.6277 - accuracy: 0.3835 - val_loss: 1.7183 - val_accuracy: 0.3115\n",
      "Epoch 60/200\n",
      "1176/1176 [==============================] - 0s 234us/step - loss: 1.6272 - accuracy: 0.3793 - val_loss: 1.7180 - val_accuracy: 0.3135\n",
      "Epoch 61/200\n",
      "1176/1176 [==============================] - 0s 212us/step - loss: 1.6249 - accuracy: 0.3835 - val_loss: 1.7184 - val_accuracy: 0.3155\n",
      "Epoch 62/200\n",
      "1176/1176 [==============================] - 0s 225us/step - loss: 1.6249 - accuracy: 0.3750 - val_loss: 1.7159 - val_accuracy: 0.3095\n",
      "Epoch 63/200\n",
      "1176/1176 [==============================] - 0s 217us/step - loss: 1.6236 - accuracy: 0.3852 - val_loss: 1.7154 - val_accuracy: 0.3115\n",
      "Epoch 64/200\n",
      "1176/1176 [==============================] - 0s 240us/step - loss: 1.6226 - accuracy: 0.3869 - val_loss: 1.7154 - val_accuracy: 0.3135\n",
      "Epoch 65/200\n",
      "1176/1176 [==============================] - 0s 222us/step - loss: 1.6213 - accuracy: 0.3835 - val_loss: 1.7142 - val_accuracy: 0.3095\n",
      "Epoch 66/200\n",
      "1176/1176 [==============================] - 0s 224us/step - loss: 1.6202 - accuracy: 0.3801 - val_loss: 1.7137 - val_accuracy: 0.3175\n",
      "Epoch 67/200\n",
      "1176/1176 [==============================] - 0s 222us/step - loss: 1.6192 - accuracy: 0.3793 - val_loss: 1.7142 - val_accuracy: 0.3175\n",
      "Epoch 68/200\n",
      "1176/1176 [==============================] - 0s 226us/step - loss: 1.6185 - accuracy: 0.3810 - val_loss: 1.7137 - val_accuracy: 0.3175\n",
      "Epoch 69/200\n",
      "1176/1176 [==============================] - 0s 221us/step - loss: 1.6175 - accuracy: 0.3810 - val_loss: 1.7134 - val_accuracy: 0.3135\n",
      "Epoch 70/200\n",
      "1176/1176 [==============================] - 0s 234us/step - loss: 1.6159 - accuracy: 0.3776 - val_loss: 1.7108 - val_accuracy: 0.3135\n",
      "Epoch 71/200\n",
      "1176/1176 [==============================] - 0s 212us/step - loss: 1.6146 - accuracy: 0.3844 - val_loss: 1.7098 - val_accuracy: 0.3095\n",
      "Epoch 72/200\n",
      "1176/1176 [==============================] - 0s 227us/step - loss: 1.6142 - accuracy: 0.3784 - val_loss: 1.7097 - val_accuracy: 0.3155\n",
      "Epoch 73/200\n",
      "1176/1176 [==============================] - 0s 223us/step - loss: 1.6122 - accuracy: 0.3835 - val_loss: 1.7090 - val_accuracy: 0.3135\n",
      "Epoch 74/200\n",
      "1176/1176 [==============================] - 0s 221us/step - loss: 1.6121 - accuracy: 0.3844 - val_loss: 1.7095 - val_accuracy: 0.3075\n",
      "Epoch 75/200\n",
      "1176/1176 [==============================] - 0s 212us/step - loss: 1.6107 - accuracy: 0.3835 - val_loss: 1.7095 - val_accuracy: 0.3115\n",
      "Epoch 76/200\n",
      "1176/1176 [==============================] - 0s 215us/step - loss: 1.6106 - accuracy: 0.3818 - val_loss: 1.7084 - val_accuracy: 0.3075\n",
      "Epoch 77/200\n",
      "1176/1176 [==============================] - 0s 214us/step - loss: 1.6092 - accuracy: 0.3827 - val_loss: 1.7066 - val_accuracy: 0.3155\n",
      "Epoch 78/200\n",
      "1176/1176 [==============================] - 0s 222us/step - loss: 1.6085 - accuracy: 0.3810 - val_loss: 1.7073 - val_accuracy: 0.3075\n",
      "Epoch 79/200\n",
      "1176/1176 [==============================] - 0s 226us/step - loss: 1.6069 - accuracy: 0.3810 - val_loss: 1.7079 - val_accuracy: 0.3095\n",
      "Epoch 80/200\n",
      "1176/1176 [==============================] - 0s 224us/step - loss: 1.6064 - accuracy: 0.3784 - val_loss: 1.7059 - val_accuracy: 0.3075\n",
      "Epoch 81/200\n",
      "1176/1176 [==============================] - 0s 217us/step - loss: 1.6047 - accuracy: 0.3844 - val_loss: 1.7059 - val_accuracy: 0.3056\n",
      "Epoch 82/200\n",
      "1176/1176 [==============================] - 0s 209us/step - loss: 1.6040 - accuracy: 0.3844 - val_loss: 1.7051 - val_accuracy: 0.3095\n",
      "Epoch 83/200\n",
      "1176/1176 [==============================] - 0s 210us/step - loss: 1.6034 - accuracy: 0.3835 - val_loss: 1.7044 - val_accuracy: 0.3056\n",
      "Epoch 84/200\n",
      "1176/1176 [==============================] - 0s 232us/step - loss: 1.6019 - accuracy: 0.3810 - val_loss: 1.7038 - val_accuracy: 0.3075\n",
      "Epoch 85/200\n",
      "1176/1176 [==============================] - 0s 223us/step - loss: 1.6016 - accuracy: 0.3844 - val_loss: 1.7049 - val_accuracy: 0.3056\n",
      "Epoch 86/200\n",
      "1176/1176 [==============================] - 0s 226us/step - loss: 1.6005 - accuracy: 0.3869 - val_loss: 1.7067 - val_accuracy: 0.3075\n",
      "Epoch 87/200\n",
      "1176/1176 [==============================] - 0s 210us/step - loss: 1.6000 - accuracy: 0.3878 - val_loss: 1.7033 - val_accuracy: 0.3036\n",
      "Epoch 88/200\n",
      "1176/1176 [==============================] - 0s 215us/step - loss: 1.5994 - accuracy: 0.3861 - val_loss: 1.7033 - val_accuracy: 0.3095\n",
      "Epoch 89/200\n",
      "1176/1176 [==============================] - 0s 218us/step - loss: 1.5977 - accuracy: 0.3801 - val_loss: 1.7046 - val_accuracy: 0.3036\n",
      "Epoch 90/200\n",
      "1176/1176 [==============================] - 0s 213us/step - loss: 1.5973 - accuracy: 0.3878 - val_loss: 1.7024 - val_accuracy: 0.3056\n",
      "Epoch 91/200\n",
      "1176/1176 [==============================] - 0s 210us/step - loss: 1.5964 - accuracy: 0.3886 - val_loss: 1.7015 - val_accuracy: 0.3115\n",
      "Epoch 92/200\n",
      "1176/1176 [==============================] - 0s 215us/step - loss: 1.5948 - accuracy: 0.3861 - val_loss: 1.7018 - val_accuracy: 0.3075\n",
      "Epoch 93/200\n",
      "1176/1176 [==============================] - 0s 225us/step - loss: 1.5957 - accuracy: 0.3903 - val_loss: 1.7001 - val_accuracy: 0.3115\n",
      "Epoch 94/200\n",
      "1176/1176 [==============================] - 0s 219us/step - loss: 1.5941 - accuracy: 0.3895 - val_loss: 1.7004 - val_accuracy: 0.3115\n",
      "Epoch 95/200\n",
      "1176/1176 [==============================] - 0s 234us/step - loss: 1.5931 - accuracy: 0.3886 - val_loss: 1.7024 - val_accuracy: 0.3056\n",
      "Epoch 96/200\n",
      "1176/1176 [==============================] - 0s 230us/step - loss: 1.5928 - accuracy: 0.3818 - val_loss: 1.7014 - val_accuracy: 0.3056\n",
      "Epoch 97/200\n",
      "1176/1176 [==============================] - 0s 240us/step - loss: 1.5924 - accuracy: 0.3861 - val_loss: 1.7016 - val_accuracy: 0.3056\n",
      "Epoch 98/200\n",
      "1176/1176 [==============================] - 0s 231us/step - loss: 1.5913 - accuracy: 0.3869 - val_loss: 1.6994 - val_accuracy: 0.3056\n",
      "Epoch 99/200\n",
      "1176/1176 [==============================] - 0s 257us/step - loss: 1.5912 - accuracy: 0.3878 - val_loss: 1.6991 - val_accuracy: 0.3056\n",
      "Epoch 100/200\n",
      "1176/1176 [==============================] - 0s 240us/step - loss: 1.5897 - accuracy: 0.3869 - val_loss: 1.6998 - val_accuracy: 0.3056\n",
      "Epoch 101/200\n",
      "1176/1176 [==============================] - 0s 240us/step - loss: 1.5895 - accuracy: 0.3937 - val_loss: 1.6982 - val_accuracy: 0.3075\n",
      "Epoch 102/200\n",
      "1176/1176 [==============================] - 0s 258us/step - loss: 1.5885 - accuracy: 0.3946 - val_loss: 1.6978 - val_accuracy: 0.3075\n",
      "Epoch 103/200\n",
      "1176/1176 [==============================] - 0s 220us/step - loss: 1.5880 - accuracy: 0.3920 - val_loss: 1.6978 - val_accuracy: 0.3095\n",
      "Epoch 104/200\n",
      "1176/1176 [==============================] - 0s 221us/step - loss: 1.5872 - accuracy: 0.3937 - val_loss: 1.6977 - val_accuracy: 0.3075\n",
      "Epoch 105/200\n",
      "1176/1176 [==============================] - 0s 220us/step - loss: 1.5867 - accuracy: 0.4005 - val_loss: 1.6982 - val_accuracy: 0.3056\n",
      "Epoch 106/200\n",
      "1176/1176 [==============================] - 0s 229us/step - loss: 1.5860 - accuracy: 0.3920 - val_loss: 1.6980 - val_accuracy: 0.3075\n",
      "Epoch 107/200\n",
      "1176/1176 [==============================] - 0s 215us/step - loss: 1.5859 - accuracy: 0.3937 - val_loss: 1.6977 - val_accuracy: 0.3095\n",
      "Epoch 108/200\n",
      "1176/1176 [==============================] - 0s 229us/step - loss: 1.5839 - accuracy: 0.3971 - val_loss: 1.6990 - val_accuracy: 0.3135\n",
      "Epoch 109/200\n",
      "1176/1176 [==============================] - 0s 217us/step - loss: 1.5838 - accuracy: 0.3929 - val_loss: 1.6985 - val_accuracy: 0.3135\n",
      "Epoch 110/200\n",
      "1176/1176 [==============================] - 0s 212us/step - loss: 1.5822 - accuracy: 0.4005 - val_loss: 1.6988 - val_accuracy: 0.3135\n",
      "Epoch 111/200\n"
     ]
    },
    {
     "name": "stdout",
     "output_type": "stream",
     "text": [
      "1176/1176 [==============================] - 0s 221us/step - loss: 1.5827 - accuracy: 0.3937 - val_loss: 1.6978 - val_accuracy: 0.3155\n",
      "Epoch 112/200\n",
      "1176/1176 [==============================] - 0s 213us/step - loss: 1.5813 - accuracy: 0.3971 - val_loss: 1.6989 - val_accuracy: 0.3095\n",
      "Epoch 113/200\n",
      "1176/1176 [==============================] - 0s 209us/step - loss: 1.5812 - accuracy: 0.3997 - val_loss: 1.6992 - val_accuracy: 0.3095\n",
      "Epoch 114/200\n",
      "1176/1176 [==============================] - 0s 221us/step - loss: 1.5799 - accuracy: 0.3988 - val_loss: 1.6977 - val_accuracy: 0.3155\n",
      "Epoch 115/200\n",
      "1176/1176 [==============================] - 0s 229us/step - loss: 1.5796 - accuracy: 0.4022 - val_loss: 1.6972 - val_accuracy: 0.3135\n",
      "Epoch 116/200\n",
      "1176/1176 [==============================] - 0s 212us/step - loss: 1.5789 - accuracy: 0.4031 - val_loss: 1.6971 - val_accuracy: 0.3075\n",
      "Epoch 117/200\n",
      "1176/1176 [==============================] - 0s 221us/step - loss: 1.5784 - accuracy: 0.4031 - val_loss: 1.6981 - val_accuracy: 0.3075\n",
      "Epoch 118/200\n",
      "1176/1176 [==============================] - 0s 229us/step - loss: 1.5772 - accuracy: 0.4048 - val_loss: 1.6975 - val_accuracy: 0.3075\n",
      "Epoch 119/200\n",
      "1176/1176 [==============================] - 0s 223us/step - loss: 1.5768 - accuracy: 0.4056 - val_loss: 1.6966 - val_accuracy: 0.3135\n",
      "Epoch 120/200\n",
      "1176/1176 [==============================] - 0s 218us/step - loss: 1.5759 - accuracy: 0.4065 - val_loss: 1.6960 - val_accuracy: 0.3095\n",
      "Epoch 121/200\n",
      "1176/1176 [==============================] - 0s 217us/step - loss: 1.5760 - accuracy: 0.4082 - val_loss: 1.6971 - val_accuracy: 0.3115\n",
      "Epoch 122/200\n",
      "1176/1176 [==============================] - 0s 211us/step - loss: 1.5745 - accuracy: 0.4133 - val_loss: 1.6956 - val_accuracy: 0.3095\n",
      "Epoch 123/200\n",
      "1176/1176 [==============================] - 0s 217us/step - loss: 1.5744 - accuracy: 0.4099 - val_loss: 1.6953 - val_accuracy: 0.3095\n",
      "Epoch 124/200\n",
      "1176/1176 [==============================] - 0s 216us/step - loss: 1.5736 - accuracy: 0.4099 - val_loss: 1.6939 - val_accuracy: 0.3194\n",
      "Epoch 125/200\n",
      "1176/1176 [==============================] - 0s 218us/step - loss: 1.5726 - accuracy: 0.4107 - val_loss: 1.6942 - val_accuracy: 0.3194\n",
      "Epoch 126/200\n",
      "1176/1176 [==============================] - 0s 212us/step - loss: 1.5729 - accuracy: 0.4107 - val_loss: 1.6940 - val_accuracy: 0.3175\n",
      "Epoch 127/200\n",
      "1176/1176 [==============================] - 0s 214us/step - loss: 1.5713 - accuracy: 0.4124 - val_loss: 1.6947 - val_accuracy: 0.3155\n",
      "Epoch 128/200\n",
      "1176/1176 [==============================] - 0s 207us/step - loss: 1.5707 - accuracy: 0.4175 - val_loss: 1.6946 - val_accuracy: 0.3155\n",
      "Epoch 129/200\n",
      "1176/1176 [==============================] - 0s 206us/step - loss: 1.5700 - accuracy: 0.4158 - val_loss: 1.6942 - val_accuracy: 0.3135\n",
      "Epoch 130/200\n",
      "1176/1176 [==============================] - 0s 212us/step - loss: 1.5689 - accuracy: 0.4167 - val_loss: 1.6934 - val_accuracy: 0.3155\n",
      "Epoch 131/200\n",
      "1176/1176 [==============================] - 0s 216us/step - loss: 1.5678 - accuracy: 0.4209 - val_loss: 1.6952 - val_accuracy: 0.3135\n",
      "Epoch 132/200\n",
      "1176/1176 [==============================] - 0s 220us/step - loss: 1.5678 - accuracy: 0.4209 - val_loss: 1.6932 - val_accuracy: 0.3155\n",
      "Epoch 133/200\n",
      "1176/1176 [==============================] - 0s 213us/step - loss: 1.5672 - accuracy: 0.4167 - val_loss: 1.6913 - val_accuracy: 0.3135\n",
      "Epoch 134/200\n",
      "1176/1176 [==============================] - 0s 205us/step - loss: 1.5666 - accuracy: 0.4209 - val_loss: 1.6931 - val_accuracy: 0.3135\n",
      "Epoch 135/200\n",
      "1176/1176 [==============================] - 0s 226us/step - loss: 1.5657 - accuracy: 0.4184 - val_loss: 1.6940 - val_accuracy: 0.3155\n",
      "Epoch 136/200\n",
      "1176/1176 [==============================] - 0s 212us/step - loss: 1.5656 - accuracy: 0.4116 - val_loss: 1.6942 - val_accuracy: 0.3175\n",
      "Epoch 137/200\n",
      "1176/1176 [==============================] - 0s 212us/step - loss: 1.5647 - accuracy: 0.4192 - val_loss: 1.6951 - val_accuracy: 0.3194\n",
      "Epoch 138/200\n",
      "1176/1176 [==============================] - 0s 211us/step - loss: 1.5654 - accuracy: 0.4209 - val_loss: 1.6925 - val_accuracy: 0.3135\n",
      "Epoch 139/200\n",
      "1176/1176 [==============================] - 0s 223us/step - loss: 1.5645 - accuracy: 0.4158 - val_loss: 1.6934 - val_accuracy: 0.3115\n",
      "Epoch 140/200\n",
      "1176/1176 [==============================] - 0s 212us/step - loss: 1.5630 - accuracy: 0.4184 - val_loss: 1.6941 - val_accuracy: 0.3115\n",
      "Epoch 141/200\n",
      "1176/1176 [==============================] - 0s 213us/step - loss: 1.5626 - accuracy: 0.4175 - val_loss: 1.6930 - val_accuracy: 0.3115\n",
      "Epoch 142/200\n",
      "1176/1176 [==============================] - 0s 213us/step - loss: 1.5622 - accuracy: 0.4235 - val_loss: 1.6935 - val_accuracy: 0.3115\n",
      "Epoch 143/200\n",
      "1176/1176 [==============================] - 0s 221us/step - loss: 1.5614 - accuracy: 0.4201 - val_loss: 1.6933 - val_accuracy: 0.3095\n",
      "Epoch 144/200\n",
      "1176/1176 [==============================] - 0s 217us/step - loss: 1.5610 - accuracy: 0.4218 - val_loss: 1.6952 - val_accuracy: 0.3095\n",
      "Epoch 145/200\n",
      "1176/1176 [==============================] - 0s 220us/step - loss: 1.5603 - accuracy: 0.4201 - val_loss: 1.6932 - val_accuracy: 0.3095\n",
      "Epoch 146/200\n",
      "1176/1176 [==============================] - 0s 210us/step - loss: 1.5597 - accuracy: 0.4218 - val_loss: 1.6927 - val_accuracy: 0.3095\n",
      "Epoch 147/200\n",
      "1176/1176 [==============================] - 0s 220us/step - loss: 1.5593 - accuracy: 0.4269 - val_loss: 1.6927 - val_accuracy: 0.3095\n",
      "Epoch 148/200\n",
      "1176/1176 [==============================] - 0s 210us/step - loss: 1.5580 - accuracy: 0.4218 - val_loss: 1.6945 - val_accuracy: 0.3095\n",
      "Epoch 149/200\n",
      "1176/1176 [==============================] - 0s 212us/step - loss: 1.5577 - accuracy: 0.4192 - val_loss: 1.6926 - val_accuracy: 0.3135\n",
      "Epoch 150/200\n",
      "1176/1176 [==============================] - 0s 211us/step - loss: 1.5579 - accuracy: 0.4286 - val_loss: 1.6923 - val_accuracy: 0.3095\n",
      "Epoch 151/200\n",
      "1176/1176 [==============================] - 0s 221us/step - loss: 1.5577 - accuracy: 0.4226 - val_loss: 1.6935 - val_accuracy: 0.3095\n",
      "Epoch 152/200\n",
      "1176/1176 [==============================] - 0s 220us/step - loss: 1.5558 - accuracy: 0.4252 - val_loss: 1.6940 - val_accuracy: 0.3095\n",
      "Epoch 153/200\n",
      "1176/1176 [==============================] - 0s 215us/step - loss: 1.5563 - accuracy: 0.4269 - val_loss: 1.6926 - val_accuracy: 0.3056\n",
      "Epoch 154/200\n",
      "1176/1176 [==============================] - 0s 212us/step - loss: 1.5560 - accuracy: 0.4277 - val_loss: 1.6931 - val_accuracy: 0.3075\n",
      "Epoch 155/200\n",
      "1176/1176 [==============================] - 0s 219us/step - loss: 1.5550 - accuracy: 0.4260 - val_loss: 1.6907 - val_accuracy: 0.3075\n",
      "Epoch 156/200\n",
      "1176/1176 [==============================] - 0s 213us/step - loss: 1.5540 - accuracy: 0.4294 - val_loss: 1.6908 - val_accuracy: 0.3095\n",
      "Epoch 157/200\n",
      "1176/1176 [==============================] - 0s 209us/step - loss: 1.5544 - accuracy: 0.4286 - val_loss: 1.6922 - val_accuracy: 0.3075\n",
      "Epoch 158/200\n",
      "1176/1176 [==============================] - 0s 212us/step - loss: 1.5527 - accuracy: 0.4294 - val_loss: 1.6938 - val_accuracy: 0.3095\n",
      "Epoch 159/200\n",
      "1176/1176 [==============================] - 0s 223us/step - loss: 1.5533 - accuracy: 0.4277 - val_loss: 1.6930 - val_accuracy: 0.3075\n",
      "Epoch 160/200\n",
      "1176/1176 [==============================] - 0s 215us/step - loss: 1.5516 - accuracy: 0.4328 - val_loss: 1.6924 - val_accuracy: 0.3095\n",
      "Epoch 161/200\n",
      "1176/1176 [==============================] - 0s 224us/step - loss: 1.5524 - accuracy: 0.4320 - val_loss: 1.6909 - val_accuracy: 0.3075\n",
      "Epoch 162/200\n",
      "1176/1176 [==============================] - 0s 225us/step - loss: 1.5507 - accuracy: 0.4303 - val_loss: 1.6897 - val_accuracy: 0.3095\n",
      "Epoch 163/200\n",
      "1176/1176 [==============================] - 0s 217us/step - loss: 1.5508 - accuracy: 0.4277 - val_loss: 1.6911 - val_accuracy: 0.3075\n",
      "Epoch 164/200\n",
      "1176/1176 [==============================] - 0s 214us/step - loss: 1.5497 - accuracy: 0.4311 - val_loss: 1.6911 - val_accuracy: 0.3056\n",
      "Epoch 165/200\n",
      "1176/1176 [==============================] - 0s 215us/step - loss: 1.5493 - accuracy: 0.4337 - val_loss: 1.6919 - val_accuracy: 0.3036\n",
      "Epoch 166/200\n"
     ]
    },
    {
     "name": "stdout",
     "output_type": "stream",
     "text": [
      "1176/1176 [==============================] - 0s 218us/step - loss: 1.5487 - accuracy: 0.4337 - val_loss: 1.6948 - val_accuracy: 0.3036\n",
      "Epoch 167/200\n",
      "1176/1176 [==============================] - 0s 212us/step - loss: 1.5483 - accuracy: 0.4311 - val_loss: 1.6904 - val_accuracy: 0.3095\n",
      "Epoch 168/200\n",
      "1176/1176 [==============================] - 0s 209us/step - loss: 1.5486 - accuracy: 0.4303 - val_loss: 1.6910 - val_accuracy: 0.3115\n",
      "Epoch 169/200\n",
      "1176/1176 [==============================] - 0s 214us/step - loss: 1.5473 - accuracy: 0.4311 - val_loss: 1.6889 - val_accuracy: 0.3115\n",
      "Epoch 170/200\n",
      "1176/1176 [==============================] - 0s 217us/step - loss: 1.5463 - accuracy: 0.4345 - val_loss: 1.6901 - val_accuracy: 0.3115\n",
      "Epoch 171/200\n",
      "1176/1176 [==============================] - 0s 213us/step - loss: 1.5464 - accuracy: 0.4269 - val_loss: 1.6910 - val_accuracy: 0.3056\n",
      "Epoch 172/200\n",
      "1176/1176 [==============================] - 0s 209us/step - loss: 1.5451 - accuracy: 0.4345 - val_loss: 1.6907 - val_accuracy: 0.3135\n",
      "Epoch 173/200\n",
      "1176/1176 [==============================] - 0s 207us/step - loss: 1.5453 - accuracy: 0.4320 - val_loss: 1.6907 - val_accuracy: 0.3095\n",
      "Epoch 174/200\n",
      "1176/1176 [==============================] - 0s 218us/step - loss: 1.5444 - accuracy: 0.4303 - val_loss: 1.6899 - val_accuracy: 0.3135\n",
      "Epoch 175/200\n",
      "1176/1176 [==============================] - 0s 214us/step - loss: 1.5446 - accuracy: 0.4362 - val_loss: 1.6913 - val_accuracy: 0.3075\n",
      "Epoch 176/200\n",
      "1176/1176 [==============================] - 0s 214us/step - loss: 1.5430 - accuracy: 0.4260 - val_loss: 1.6894 - val_accuracy: 0.3095\n",
      "Epoch 177/200\n",
      "1176/1176 [==============================] - 0s 214us/step - loss: 1.5425 - accuracy: 0.4345 - val_loss: 1.6890 - val_accuracy: 0.3036\n",
      "Epoch 178/200\n",
      "1176/1176 [==============================] - 0s 214us/step - loss: 1.5416 - accuracy: 0.4354 - val_loss: 1.6905 - val_accuracy: 0.3016\n",
      "Epoch 179/200\n",
      "1176/1176 [==============================] - 0s 212us/step - loss: 1.5413 - accuracy: 0.4337 - val_loss: 1.6895 - val_accuracy: 0.3016\n",
      "Epoch 180/200\n",
      "1176/1176 [==============================] - 0s 212us/step - loss: 1.5405 - accuracy: 0.4371 - val_loss: 1.6881 - val_accuracy: 0.3135\n",
      "Epoch 181/200\n",
      "1176/1176 [==============================] - 0s 212us/step - loss: 1.5396 - accuracy: 0.4354 - val_loss: 1.6903 - val_accuracy: 0.3175\n",
      "Epoch 182/200\n",
      "1176/1176 [==============================] - 0s 217us/step - loss: 1.5402 - accuracy: 0.4371 - val_loss: 1.6910 - val_accuracy: 0.3075\n",
      "Epoch 183/200\n",
      "1176/1176 [==============================] - 0s 212us/step - loss: 1.5386 - accuracy: 0.4362 - val_loss: 1.6931 - val_accuracy: 0.3115\n",
      "Epoch 184/200\n",
      "1176/1176 [==============================] - 0s 212us/step - loss: 1.5397 - accuracy: 0.4362 - val_loss: 1.6907 - val_accuracy: 0.3036\n",
      "Epoch 185/200\n",
      "1176/1176 [==============================] - 0s 217us/step - loss: 1.5390 - accuracy: 0.4371 - val_loss: 1.6894 - val_accuracy: 0.3056\n",
      "Epoch 186/200\n",
      "1176/1176 [==============================] - 0s 214us/step - loss: 1.5379 - accuracy: 0.4388 - val_loss: 1.6898 - val_accuracy: 0.3016\n",
      "Epoch 187/200\n",
      "1176/1176 [==============================] - 0s 214us/step - loss: 1.5379 - accuracy: 0.4362 - val_loss: 1.6891 - val_accuracy: 0.3095\n",
      "Epoch 188/200\n",
      "1176/1176 [==============================] - 0s 216us/step - loss: 1.5372 - accuracy: 0.4405 - val_loss: 1.6908 - val_accuracy: 0.3095\n",
      "Epoch 189/200\n",
      "1176/1176 [==============================] - 0s 218us/step - loss: 1.5373 - accuracy: 0.4320 - val_loss: 1.6897 - val_accuracy: 0.3095\n",
      "Epoch 190/200\n",
      "1176/1176 [==============================] - 0s 222us/step - loss: 1.5362 - accuracy: 0.4362 - val_loss: 1.6890 - val_accuracy: 0.3135\n",
      "Epoch 191/200\n",
      "1176/1176 [==============================] - 0s 209us/step - loss: 1.5354 - accuracy: 0.4379 - val_loss: 1.6905 - val_accuracy: 0.3075\n",
      "Epoch 192/200\n",
      "1176/1176 [==============================] - 0s 205us/step - loss: 1.5359 - accuracy: 0.4371 - val_loss: 1.6899 - val_accuracy: 0.3036\n",
      "Epoch 193/200\n",
      "1176/1176 [==============================] - 0s 208us/step - loss: 1.5352 - accuracy: 0.4362 - val_loss: 1.6895 - val_accuracy: 0.3056\n",
      "Epoch 194/200\n",
      "1176/1176 [==============================] - 0s 228us/step - loss: 1.5341 - accuracy: 0.4388 - val_loss: 1.6895 - val_accuracy: 0.3135\n",
      "Epoch 195/200\n",
      "1176/1176 [==============================] - 0s 220us/step - loss: 1.5333 - accuracy: 0.4405 - val_loss: 1.6900 - val_accuracy: 0.3234\n",
      "Epoch 196/200\n",
      "1176/1176 [==============================] - 0s 216us/step - loss: 1.5347 - accuracy: 0.4430 - val_loss: 1.6913 - val_accuracy: 0.3016\n",
      "Epoch 197/200\n",
      "1176/1176 [==============================] - 0s 221us/step - loss: 1.5333 - accuracy: 0.4371 - val_loss: 1.6906 - val_accuracy: 0.3016\n",
      "Epoch 198/200\n",
      "1176/1176 [==============================] - 0s 225us/step - loss: 1.5331 - accuracy: 0.4354 - val_loss: 1.6891 - val_accuracy: 0.3016\n",
      "Epoch 199/200\n",
      "1176/1176 [==============================] - 0s 224us/step - loss: 1.5320 - accuracy: 0.4354 - val_loss: 1.6898 - val_accuracy: 0.3075\n",
      "Epoch 200/200\n",
      "1176/1176 [==============================] - 0s 223us/step - loss: 1.5320 - accuracy: 0.4396 - val_loss: 1.6903 - val_accuracy: 0.3095\n"
     ]
    }
   ],
   "source": [
    "history = model.fit(train_data,\n",
    "                    train_targets,\n",
    "                    epochs=200,\n",
    "                    batch_size=4,\n",
    "                    validation_data=(test_data,test_targets)\n",
    ")"
   ]
  },
  {
   "cell_type": "code",
   "execution_count": 15,
   "metadata": {
    "scrolled": true
   },
   "outputs": [
    {
     "name": "stderr",
     "output_type": "stream",
     "text": [
      "C:\\ProgramData\\Anaconda3\\lib\\site-packages\\matplotlib\\backends\\backend_agg.py:211: RuntimeWarning: Glyph 35347 missing from current font.\n",
      "  font.set_text(s, 0.0, flags=flags)\n",
      "C:\\ProgramData\\Anaconda3\\lib\\site-packages\\matplotlib\\backends\\backend_agg.py:211: RuntimeWarning: Glyph 32244 missing from current font.\n",
      "  font.set_text(s, 0.0, flags=flags)\n",
      "C:\\ProgramData\\Anaconda3\\lib\\site-packages\\matplotlib\\backends\\backend_agg.py:211: RuntimeWarning: Glyph 33287 missing from current font.\n",
      "  font.set_text(s, 0.0, flags=flags)\n",
      "C:\\ProgramData\\Anaconda3\\lib\\site-packages\\matplotlib\\backends\\backend_agg.py:211: RuntimeWarning: Glyph 39511 missing from current font.\n",
      "  font.set_text(s, 0.0, flags=flags)\n",
      "C:\\ProgramData\\Anaconda3\\lib\\site-packages\\matplotlib\\backends\\backend_agg.py:211: RuntimeWarning: Glyph 35657 missing from current font.\n",
      "  font.set_text(s, 0.0, flags=flags)\n",
      "C:\\ProgramData\\Anaconda3\\lib\\site-packages\\matplotlib\\backends\\backend_agg.py:211: RuntimeWarning: Glyph 30340 missing from current font.\n",
      "  font.set_text(s, 0.0, flags=flags)\n",
      "C:\\ProgramData\\Anaconda3\\lib\\site-packages\\matplotlib\\backends\\backend_agg.py:211: RuntimeWarning: Glyph 25613 missing from current font.\n",
      "  font.set_text(s, 0.0, flags=flags)\n",
      "C:\\ProgramData\\Anaconda3\\lib\\site-packages\\matplotlib\\backends\\backend_agg.py:211: RuntimeWarning: Glyph 22833 missing from current font.\n",
      "  font.set_text(s, 0.0, flags=flags)\n",
      "C:\\ProgramData\\Anaconda3\\lib\\site-packages\\matplotlib\\backends\\backend_agg.py:211: RuntimeWarning: Glyph 20989 missing from current font.\n",
      "  font.set_text(s, 0.0, flags=flags)\n",
      "C:\\ProgramData\\Anaconda3\\lib\\site-packages\\matplotlib\\backends\\backend_agg.py:211: RuntimeWarning: Glyph 25976 missing from current font.\n",
      "  font.set_text(s, 0.0, flags=flags)\n",
      "C:\\ProgramData\\Anaconda3\\lib\\site-packages\\matplotlib\\backends\\backend_agg.py:180: RuntimeWarning: Glyph 35347 missing from current font.\n",
      "  font.set_text(s, 0, flags=flags)\n",
      "C:\\ProgramData\\Anaconda3\\lib\\site-packages\\matplotlib\\backends\\backend_agg.py:180: RuntimeWarning: Glyph 32244 missing from current font.\n",
      "  font.set_text(s, 0, flags=flags)\n",
      "C:\\ProgramData\\Anaconda3\\lib\\site-packages\\matplotlib\\backends\\backend_agg.py:180: RuntimeWarning: Glyph 33287 missing from current font.\n",
      "  font.set_text(s, 0, flags=flags)\n",
      "C:\\ProgramData\\Anaconda3\\lib\\site-packages\\matplotlib\\backends\\backend_agg.py:180: RuntimeWarning: Glyph 39511 missing from current font.\n",
      "  font.set_text(s, 0, flags=flags)\n",
      "C:\\ProgramData\\Anaconda3\\lib\\site-packages\\matplotlib\\backends\\backend_agg.py:180: RuntimeWarning: Glyph 35657 missing from current font.\n",
      "  font.set_text(s, 0, flags=flags)\n",
      "C:\\ProgramData\\Anaconda3\\lib\\site-packages\\matplotlib\\backends\\backend_agg.py:180: RuntimeWarning: Glyph 30340 missing from current font.\n",
      "  font.set_text(s, 0, flags=flags)\n",
      "C:\\ProgramData\\Anaconda3\\lib\\site-packages\\matplotlib\\backends\\backend_agg.py:180: RuntimeWarning: Glyph 25613 missing from current font.\n",
      "  font.set_text(s, 0, flags=flags)\n",
      "C:\\ProgramData\\Anaconda3\\lib\\site-packages\\matplotlib\\backends\\backend_agg.py:180: RuntimeWarning: Glyph 22833 missing from current font.\n",
      "  font.set_text(s, 0, flags=flags)\n",
      "C:\\ProgramData\\Anaconda3\\lib\\site-packages\\matplotlib\\backends\\backend_agg.py:180: RuntimeWarning: Glyph 20989 missing from current font.\n",
      "  font.set_text(s, 0, flags=flags)\n",
      "C:\\ProgramData\\Anaconda3\\lib\\site-packages\\matplotlib\\backends\\backend_agg.py:180: RuntimeWarning: Glyph 25976 missing from current font.\n",
      "  font.set_text(s, 0, flags=flags)\n"
     ]
    },
    {
     "data": {
      "image/png": "[encoded data removed]",
      "text/plain": [
       "<Figure size 432x288 with 1 Axes>"
      ]
     },
     "metadata": {
      "needs_background": "light"
     },
     "output_type": "display_data"
    }
   ],
   "source": [
    "#繪圖\n",
    "\n",
    "loss = history.history['loss']\n",
    "val_loss = history.history['val_loss']\n",
    "epochs = range(1, len(loss)+ 1)\n",
    "plt.plot(epochs, loss,'bo',label='Training loss')\n",
    "plt.plot(epochs, val_loss,'b',label='Validation loss')\n",
    "plt.title('訓練與驗證的損失函數')\n",
    "plt.xlabel('Epohs')\n",
    "plt.xlabel('Loss')\n",
    "plt.legend()\n",
    "plt.show()"
   ]
  },
  {
   "cell_type": "code",
   "execution_count": 16,
   "metadata": {},
   "outputs": [
    {
     "data": {
      "image/png": "[encoded data removed]",
      "text/plain": [
       "<Figure size 432x288 with 1 Axes>"
      ]
     },
     "metadata": {
      "needs_background": "light"
     },
     "output_type": "display_data"
    }
   ],
   "source": [
    "plt.clf()\n",
    "acc = history.history['accuracy']\n",
    "val_acc=history.history['val_accuracy']\n",
    "\n",
    "plt.plot(epochs, acc, 'bo',label='Training acc')\n",
    "plt.plot(epochs, val_acc,'b',label='Validation acc')\n",
    "plt.title('Fuck you')\n",
    "plt.xlabel('Epohs')\n",
    "plt.xlabel('Accuracy')\n",
    "plt.legend()\n",
    "plt.show()"
   ]
  },
  {
   "cell_type": "markdown",
   "metadata": {},
   "source": [
    "# 測試 小綠同學"
   ]
  },
  {
   "cell_type": "code",
   "execution_count": 17,
   "metadata": {},
   "outputs": [
    {
     "data": {
      "text/html": [
       "<div>\n",
       "<style scoped>\n",
       "    .dataframe tbody tr th:only-of-type {\n",
       "        vertical-align: middle;\n",
       "    }\n",
       "\n",
       "    .dataframe tbody tr th {\n",
       "        vertical-align: top;\n",
       "    }\n",
       "\n",
       "    .dataframe thead th {\n",
       "        text-align: right;\n",
       "    }\n",
       "</style>\n",
       "<table border=\"1\" class=\"dataframe\">\n",
       "  <thead>\n",
       "    <tr style=\"text-align: right;\">\n",
       "      <th></th>\n",
       "      <th>age</th>\n",
       "      <th>serveTime</th>\n",
       "      <th>Loan</th>\n",
       "      <th>SalPerY</th>\n",
       "      <th>holdCard</th>\n",
       "      <th>Career</th>\n",
       "    </tr>\n",
       "  </thead>\n",
       "  <tbody>\n",
       "    <tr>\n",
       "      <th>0</th>\n",
       "      <td>8</td>\n",
       "      <td>120</td>\n",
       "      <td>4</td>\n",
       "      <td>600000</td>\n",
       "      <td>1</td>\n",
       "      <td>1</td>\n",
       "    </tr>\n",
       "    <tr>\n",
       "      <th>1</th>\n",
       "      <td>28</td>\n",
       "      <td>12</td>\n",
       "      <td>0</td>\n",
       "      <td>600000</td>\n",
       "      <td>0</td>\n",
       "      <td>0</td>\n",
       "    </tr>\n",
       "    <tr>\n",
       "      <th>2</th>\n",
       "      <td>28</td>\n",
       "      <td>12</td>\n",
       "      <td>0</td>\n",
       "      <td>87</td>\n",
       "      <td>2</td>\n",
       "      <td>0</td>\n",
       "    </tr>\n",
       "  </tbody>\n",
       "</table>\n",
       "</div>"
      ],
      "text/plain": [
       "  age serveTime Loan SalPerY holdCard Career\n",
       "0   8       120    4  600000        1      1\n",
       "1  28        12    0  600000        0      0\n",
       "2  28        12    0      87        2      0"
      ]
     },
     "execution_count": 17,
     "metadata": {},
     "output_type": "execute_result"
    }
   ],
   "source": [
    "小綠 = pd.DataFrame(columns=[\"age\",\"serveTime\",\"Loan\",\"SalPerY\",\"holdCard\",\"Career\"])\n",
    "小綠.loc[0]=8,120,4,600000,1,1\n",
    "小綠.loc[1]=28,12,0,600000,0,0\n",
    "小綠.loc[2]=28,12,0,87,2,0\n",
    "小綠"
   ]
  },
  {
   "cell_type": "code",
   "execution_count": 18,
   "metadata": {},
   "outputs": [
    {
     "data": {
      "text/html": [
       "<div>\n",
       "<style scoped>\n",
       "    .dataframe tbody tr th:only-of-type {\n",
       "        vertical-align: middle;\n",
       "    }\n",
       "\n",
       "    .dataframe tbody tr th {\n",
       "        vertical-align: top;\n",
       "    }\n",
       "\n",
       "    .dataframe thead th {\n",
       "        text-align: right;\n",
       "    }\n",
       "</style>\n",
       "<table border=\"1\" class=\"dataframe\">\n",
       "  <thead>\n",
       "    <tr style=\"text-align: right;\">\n",
       "      <th></th>\n",
       "      <th>age</th>\n",
       "      <th>serveTime</th>\n",
       "      <th>Loan</th>\n",
       "      <th>SalPerY</th>\n",
       "      <th>holdCard</th>\n",
       "      <th>Career</th>\n",
       "    </tr>\n",
       "  </thead>\n",
       "  <tbody>\n",
       "    <tr>\n",
       "      <th>0</th>\n",
       "      <td>-4.35757</td>\n",
       "      <td>1.84961</td>\n",
       "      <td>4.39742</td>\n",
       "      <td>-0.102955</td>\n",
       "      <td>0.851082</td>\n",
       "      <td>-1.77296</td>\n",
       "    </tr>\n",
       "    <tr>\n",
       "      <th>1</th>\n",
       "      <td>0.283378</td>\n",
       "      <td>-0.346219</td>\n",
       "      <td>-0.575408</td>\n",
       "      <td>-0.102955</td>\n",
       "      <td>-1.17498</td>\n",
       "      <td>-3.37312</td>\n",
       "    </tr>\n",
       "    <tr>\n",
       "      <th>2</th>\n",
       "      <td>0.283378</td>\n",
       "      <td>-0.346219</td>\n",
       "      <td>-0.575408</td>\n",
       "      <td>-0.495489</td>\n",
       "      <td>2.87714</td>\n",
       "      <td>-3.37312</td>\n",
       "    </tr>\n",
       "  </tbody>\n",
       "</table>\n",
       "</div>"
      ],
      "text/plain": [
       "        age serveTime      Loan   SalPerY  holdCard   Career\n",
       "0  -4.35757   1.84961   4.39742 -0.102955  0.851082 -1.77296\n",
       "1  0.283378 -0.346219 -0.575408 -0.102955  -1.17498 -3.37312\n",
       "2  0.283378 -0.346219 -0.575408 -0.495489   2.87714 -3.37312"
      ]
     },
     "execution_count": 18,
     "metadata": {},
     "output_type": "execute_result"
    }
   ],
   "source": [
    "# 因為先前輸入時有先標準化,因此輸入也要標準化\n",
    "小綠-=mean\n",
    "小綠/=std\n",
    "小綠"
   ]
  },
  {
   "cell_type": "code",
   "execution_count": 26,
   "metadata": {},
   "outputs": [
    {
     "data": {
      "text/plain": [
       "array([1., 0., 0., 0., 0., 0., 0., 0., 0., 0., 0., 0., 0., 0., 0., 0., 0.,\n",
       "       0., 0., 0.], dtype=float32)"
      ]
     },
     "execution_count": 26,
     "metadata": {},
     "output_type": "execute_result"
    }
   ],
   "source": [
    "# 他給出的是每一群的機率(相加為一)\n",
    "preds = model.predict(小綠)\n",
    "preds[2]"
   ]
  },
  {
   "cell_type": "code",
   "execution_count": 30,
   "metadata": {},
   "outputs": [
    {
     "name": "stdout",
     "output_type": "stream",
     "text": [
      "(array([0], dtype=int64),)\n"
     ]
    }
   ],
   "source": [
    "#接著我們找出裡面機率最大的值的所在位子\n",
    "print(np.where(preds[0]==np.max(preds[0])))"
   ]
  },
  {
   "cell_type": "code",
   "execution_count": 29,
   "metadata": {},
   "outputs": [
    {
     "data": {
      "text/plain": [
       "array([9.9975902e-01, 2.4104267e-04, 8.6009363e-13, 1.7380719e-21,\n",
       "       2.7840226e-18, 2.6001981e-17, 7.7214279e-20, 3.4693040e-28,\n",
       "       2.8330106e-21, 6.3681742e-32, 1.1261915e-24, 1.2584696e-29,\n",
       "       9.3763090e-28, 2.1129929e-26, 2.0012438e-26, 5.9992626e-23,\n",
       "       3.5284997e-27, 7.2059457e-22, 0.0000000e+00, 1.1678877e-22],\n",
       "      dtype=float32)"
      ]
     },
     "execution_count": 29,
     "metadata": {},
     "output_type": "execute_result"
    }
   ],
   "source": [
    "preds[1]"
   ]
  },
  {
   "cell_type": "code",
   "execution_count": null,
   "metadata": {},
   "outputs": [],
   "source": []
  }
 ],
 "metadata": {
  "kernelspec": {
   "display_name": "Python 3",
   "language": "python",
   "name": "python3"
  },
  "language_info": {
   "codemirror_mode": {
    "name": "ipython",
    "version": 3
   },
   "file_extension": ".py",
   "mimetype": "text/x-python",
   "name": "python",
   "nbconvert_exporter": "python",
   "pygments_lexer": "ipython3",
   "version": "3.7.3"
  }
 },
 "nbformat": 4,
 "nbformat_minor": 2
}
