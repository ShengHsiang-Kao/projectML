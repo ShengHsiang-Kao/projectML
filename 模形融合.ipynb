{
 "cells": [
  {
   "cell_type": "code",
   "execution_count": 1,
   "metadata": {},
   "outputs": [
    {
     "name": "stderr",
     "output_type": "stream",
     "text": [
      "Using TensorFlow backend.\n"
     ]
    }
   ],
   "source": [
    "from keras.datasets import boston_housing\n",
    "from keras.datasets import reuters\n",
    "import numpy as np\n",
    "import os\n",
    "from keras.models import Sequential\n",
    "import tensorflow as tf\n",
    "from keras import models,Model\n",
    "from keras import layers\n",
    "from keras import optimizers\n",
    "from keras import losses\n",
    "from keras import metrics\n",
    "import matplotlib.pyplot as plt\n",
    "import time\n",
    "import pandas as pd\n",
    "import random\n",
    "from sklearn.utils import shuffle\n",
    "from sklearn.model_selection import cross_validate\n",
    "from utils import *\n",
    "from sklearn.model_selection import train_test_split\n",
    "import matplotlib.pyplot as plt\n",
    "from keras.layers import *\n",
    "from keras.optimizers import Adam\n",
    "from keras.callbacks import ModelCheckpoint\n",
    "from keras.preprocessing.sequence import pad_sequences\n",
    "from keras.wrappers.scikit_learn import KerasClassifier \n",
    "from keras.layers import Conv2D, MaxPooling2D, Flatten\n",
    "from keras.layers import Input, LSTM, Embedding, Dense\n",
    "from keras.models import Model, Sequential"
   ]
  },
  {
   "cell_type": "code",
   "execution_count": 2,
   "metadata": {},
   "outputs": [
    {
     "name": "stdout",
     "output_type": "stream",
     "text": [
      "<class 'pandas.core.frame.DataFrame'>\n",
      "Int64Index: 1680 entries, 0 to 1686\n",
      "Data columns (total 8 columns):\n",
      "age                1680 non-null float64\n",
      "serveTime          1680 non-null float64\n",
      "credLimit          1680 non-null int64\n",
      "Loan               1680 non-null float64\n",
      "SalPerY            1680 non-null int64\n",
      "holdCard           1680 non-null int64\n",
      "Career             1680 non-null int64\n",
      "credLimit_group    1680 non-null int32\n",
      "dtypes: float64(3), int32(1), int64(4)\n",
      "memory usage: 111.6 KB\n"
     ]
    }
   ],
   "source": [
    "#開檔\n",
    "df = pd.read_excel(r'C:\\Users\\Big data\\Desktop\\class\\funcardproject\\斷詞與和卡額度_20群.xls',encoding='utf-16')\n",
    "df = df.loc[:, [\"age\",\"serveTime\",\"credLimit\",\"Loan\",\"SalPerY\",\"holdCard\",\"Career\",\"credLimit_group\"]] \n",
    "#若某raw有NAN則整RAW刪除\n",
    "df =df.dropna(\n",
    "    axis=0,     # 0: 对行进行操作; 1: 对列进行操作\n",
    "    how='any'   # 'any': 只要存在 NaN 就 drop 掉; 'all': 必须全部是 NaN 才 drop \n",
    "    ) \n",
    "#把分群的Y轉成int\n",
    "df['credLimit_group'] = df['credLimit_group'].astype('int')\n",
    "df.info()"
   ]
  },
  {
   "cell_type": "code",
   "execution_count": 3,
   "metadata": {},
   "outputs": [
    {
     "name": "stdout",
     "output_type": "stream",
     "text": [
      "(1176, 6)\n",
      "(504, 6)\n",
      "(1176, 1)\n",
      "(504, 1)\n"
     ]
    }
   ],
   "source": [
    "train_data, test_data, train_targets, test_targets = train_test_split(df.loc[:, [\"age\",\"serveTime\",\"Loan\",\"SalPerY\",\"holdCard\",\"Career\"]] , df.loc[:, [\"credLimit_group\"]] , test_size=0.3, random_state=42)\n",
    "print(train_data.shape)\n",
    "print(test_data.shape)\n",
    "print(train_targets.shape)\n",
    "print(test_targets.shape)\n",
    "#轉array\n",
    "train_data = np.array(train_data).astype(float)\n",
    "test_data = np.array(test_data).astype(float)\n",
    "train_targets = np.array(train_targets).astype(int)\n",
    "test_targets = np.array(test_targets).astype(int)\n",
    "#把Y弄成onehot\n",
    "def to_one_hot(labels, dimension=20):\n",
    "    results = np.zeros((len(labels),dimension))\n",
    "    for i,label in enumerate(labels):\n",
    "        results[i,label]=1.\n",
    "    return results\n",
    "train_targets = to_one_hot(train_targets)\n",
    "test_targets = to_one_hot(test_targets)"
   ]
  },
  {
   "cell_type": "code",
   "execution_count": 4,
   "metadata": {},
   "outputs": [
    {
     "name": "stdout",
     "output_type": "stream",
     "text": [
      "(1176, 6)\n",
      "(504, 6)\n",
      "(1176, 20)\n",
      "(504, 20)\n"
     ]
    }
   ],
   "source": [
    "print(train_data.shape)\n",
    "print(test_data.shape)\n",
    "print(train_targets.shape)\n",
    "print(test_targets.shape)"
   ]
  },
  {
   "cell_type": "code",
   "execution_count": 5,
   "metadata": {},
   "outputs": [],
   "source": [
    "#正規化\n",
    "#因為relu,所以這個比較好\n",
    "train_data_max = train_data.max(axis=0)\n",
    "train_data_min = train_data.min(axis=0)\n",
    "train_data_range = train_data_max-train_data_min\n",
    "train_data-=train_data_min\n",
    "train_data/=train_data_range\n",
    "\n",
    "test_data_max = test_data.max(axis=0)\n",
    "test_data_min = test_data.min(axis=0)\n",
    "test_data_range = test_data_max-test_data_min\n",
    "test_data-=test_data_min\n",
    "test_data/=test_data_range"
   ]
  },
  {
   "cell_type": "markdown",
   "metadata": {},
   "source": [
    "# CNN"
   ]
  },
  {
   "cell_type": "code",
   "execution_count": 6,
   "metadata": {},
   "outputs": [
    {
     "name": "stdout",
     "output_type": "stream",
     "text": [
      "Model: \"sequential_1\"\n",
      "_________________________________________________________________\n",
      "Layer (type)                 Output Shape              Param #   \n",
      "=================================================================\n",
      "embedding_1 (Embedding)      (None, 6, 6)              36        \n",
      "_________________________________________________________________\n",
      "conv1d_1 (Conv1D)            (None, 1, 6)              222       \n",
      "_________________________________________________________________\n",
      "global_max_pooling1d_1 (Glob (None, 6)                 0         \n",
      "_________________________________________________________________\n",
      "dense_1 (Dense)              (None, 20)                140       \n",
      "_________________________________________________________________\n",
      "activation_1 (Activation)    (None, 20)                0         \n",
      "=================================================================\n",
      "Total params: 398\n",
      "Trainable params: 398\n",
      "Non-trainable params: 0\n",
      "_________________________________________________________________\n"
     ]
    }
   ],
   "source": [
    "model_CNN = Sequential()\n",
    "model_CNN.add(layers.Embedding(6,6,input_length=6))\n",
    "model_CNN.add(layers.Conv1D(6,6,activation='relu'))\n",
    "model_CNN.add(layers.GlobalMaxPool1D())\n",
    "model_CNN.add(layers.Dense(20))\n",
    "model_CNN.add(Activation('softmax'))\n",
    "model_CNN.summary()"
   ]
  },
  {
   "cell_type": "markdown",
   "metadata": {},
   "source": [
    "# GRU"
   ]
  },
  {
   "cell_type": "code",
   "execution_count": 7,
   "metadata": {},
   "outputs": [
    {
     "name": "stdout",
     "output_type": "stream",
     "text": [
      "Model: \"sequential_2\"\n",
      "_________________________________________________________________\n",
      "Layer (type)                 Output Shape              Param #   \n",
      "=================================================================\n",
      "bidirectional_1 (Bidirection (None, 12)                288       \n",
      "_________________________________________________________________\n",
      "dense_2 (Dense)              (None, 20)                260       \n",
      "_________________________________________________________________\n",
      "activation_2 (Activation)    (None, 20)                0         \n",
      "=================================================================\n",
      "Total params: 548\n",
      "Trainable params: 548\n",
      "Non-trainable params: 0\n",
      "_________________________________________________________________\n"
     ]
    }
   ],
   "source": [
    "model_GRU = Sequential()\n",
    "model_GRU.add(layers.Bidirectional(layers.GRU(6),input_shape=(6,1)))\n",
    "model_GRU.add(layers.Dense(20))\n",
    "model_GRU.add(Activation('softmax'))\n",
    "model_GRU.summary()"
   ]
  },
  {
   "cell_type": "markdown",
   "metadata": {},
   "source": [
    "# 一般的"
   ]
  },
  {
   "cell_type": "code",
   "execution_count": 8,
   "metadata": {},
   "outputs": [
    {
     "name": "stdout",
     "output_type": "stream",
     "text": [
      "Model: \"sequential_3\"\n",
      "_________________________________________________________________\n",
      "Layer (type)                 Output Shape              Param #   \n",
      "=================================================================\n",
      "dense_3 (Dense)              (None, 30)                210       \n",
      "_________________________________________________________________\n",
      "dense_4 (Dense)              (None, 25)                775       \n",
      "_________________________________________________________________\n",
      "dense_5 (Dense)              (None, 20)                520       \n",
      "_________________________________________________________________\n",
      "dense_6 (Dense)              (None, 20)                420       \n",
      "=================================================================\n",
      "Total params: 1,925\n",
      "Trainable params: 1,925\n",
      "Non-trainable params: 0\n",
      "_________________________________________________________________\n"
     ]
    }
   ],
   "source": [
    "#模型定義\n",
    "model = models.Sequential()\n",
    "model.add(layers.Dense(30, activation='relu',input_shape=(6 , )))\n",
    "model.add(layers.Dense(25, activation='relu'))\n",
    "model.add(layers.Dense(20, activation='relu'))\n",
    "model.add(layers.Dense(20, activation='softmax'))\n",
    "model.summary()"
   ]
  },
  {
   "cell_type": "code",
   "execution_count": 51,
   "metadata": {
    "scrolled": true
   },
   "outputs": [
    {
     "name": "stdout",
     "output_type": "stream",
     "text": [
      "Model: \"model_17\"\n",
      "__________________________________________________________________________________________________\n",
      "Layer (type)                    Output Shape         Param #     Connected to                     \n",
      "==================================================================================================\n",
      "input_19 (InputLayer)           (None, 6)            0                                            \n",
      "__________________________________________________________________________________________________\n",
      "dense_129 (Dense)               (None, 3)            21          input_19[0][0]                   \n",
      "__________________________________________________________________________________________________\n",
      "dense_130 (Dense)               (None, 20)           80          dense_129[0][0]                  \n",
      "__________________________________________________________________________________________________\n",
      "dense_131 (Dense)               (None, 4)            28          input_19[0][0]                   \n",
      "__________________________________________________________________________________________________\n",
      "dense_133 (Dense)               (None, 5)            35          input_19[0][0]                   \n",
      "__________________________________________________________________________________________________\n",
      "dropout_18 (Dropout)            (None, 20)           0           dense_130[0][0]                  \n",
      "__________________________________________________________________________________________________\n",
      "dense_132 (Dense)               (None, 20)           100         dense_131[0][0]                  \n",
      "__________________________________________________________________________________________________\n",
      "dense_134 (Dense)               (None, 20)           120         dense_133[0][0]                  \n",
      "__________________________________________________________________________________________________\n",
      "concatenate_17 (Concatenate)    (None, 60)           0           dropout_18[0][0]                 \n",
      "                                                                 dense_132[0][0]                  \n",
      "                                                                 dense_134[0][0]                  \n",
      "__________________________________________________________________________________________________\n",
      "dense_135 (Dense)               (None, 20)           1220        concatenate_17[0][0]             \n",
      "==================================================================================================\n",
      "Total params: 1,604\n",
      "Trainable params: 1,604\n",
      "Non-trainable params: 0\n",
      "__________________________________________________________________________________________________\n",
      "Train on 1176 samples, validate on 504 samples\n",
      "Epoch 1/100\n",
      "1176/1176 [==============================] - 0s 133us/step - loss: 3.1088 - accuracy: 0.0323 - val_loss: 3.0605 - val_accuracy: 0.0357\n",
      "Epoch 2/100\n",
      "1176/1176 [==============================] - 0s 14us/step - loss: 3.0169 - accuracy: 0.0323 - val_loss: 2.9746 - val_accuracy: 0.0357\n",
      "Epoch 3/100\n",
      "1176/1176 [==============================] - 0s 13us/step - loss: 2.9340 - accuracy: 0.0323 - val_loss: 2.8956 - val_accuracy: 0.0357\n",
      "Epoch 4/100\n",
      "1176/1176 [==============================] - 0s 16us/step - loss: 2.8577 - accuracy: 0.2143 - val_loss: 2.8238 - val_accuracy: 0.2460\n",
      "Epoch 5/100\n",
      "1176/1176 [==============================] - 0s 15us/step - loss: 2.7879 - accuracy: 0.2670 - val_loss: 2.7561 - val_accuracy: 0.2599\n",
      "Epoch 6/100\n",
      "1176/1176 [==============================] - 0s 15us/step - loss: 2.7233 - accuracy: 0.2704 - val_loss: 2.6978 - val_accuracy: 0.2599\n",
      "Epoch 7/100\n",
      "1176/1176 [==============================] - 0s 15us/step - loss: 2.6645 - accuracy: 0.2704 - val_loss: 2.6421 - val_accuracy: 0.2599\n",
      "Epoch 8/100\n",
      "1176/1176 [==============================] - 0s 14us/step - loss: 2.6116 - accuracy: 0.2704 - val_loss: 2.5907 - val_accuracy: 0.2599\n",
      "Epoch 9/100\n",
      "1176/1176 [==============================] - 0s 14us/step - loss: 2.5662 - accuracy: 0.2704 - val_loss: 2.5455 - val_accuracy: 0.2599\n",
      "Epoch 10/100\n",
      "1176/1176 [==============================] - 0s 15us/step - loss: 2.5222 - accuracy: 0.2704 - val_loss: 2.5051 - val_accuracy: 0.2599\n",
      "Epoch 11/100\n",
      "1176/1176 [==============================] - 0s 15us/step - loss: 2.4815 - accuracy: 0.2704 - val_loss: 2.4673 - val_accuracy: 0.2599\n",
      "Epoch 12/100\n",
      "1176/1176 [==============================] - 0s 17us/step - loss: 2.4462 - accuracy: 0.2704 - val_loss: 2.4342 - val_accuracy: 0.2599\n",
      "Epoch 13/100\n",
      "1176/1176 [==============================] - 0s 14us/step - loss: 2.4148 - accuracy: 0.2704 - val_loss: 2.4043 - val_accuracy: 0.2599\n",
      "Epoch 14/100\n",
      "1176/1176 [==============================] - 0s 14us/step - loss: 2.3872 - accuracy: 0.2704 - val_loss: 2.3776 - val_accuracy: 0.2599\n",
      "Epoch 15/100\n",
      "1176/1176 [==============================] - 0s 18us/step - loss: 2.3610 - accuracy: 0.2704 - val_loss: 2.3534 - val_accuracy: 0.2599\n",
      "Epoch 16/100\n",
      "1176/1176 [==============================] - 0s 20us/step - loss: 2.3357 - accuracy: 0.2704 - val_loss: 2.3316 - val_accuracy: 0.2599\n",
      "Epoch 17/100\n",
      "1176/1176 [==============================] - 0s 16us/step - loss: 2.3174 - accuracy: 0.2704 - val_loss: 2.3110 - val_accuracy: 0.2599\n",
      "Epoch 18/100\n",
      "1176/1176 [==============================] - 0s 15us/step - loss: 2.3034 - accuracy: 0.2704 - val_loss: 2.2928 - val_accuracy: 0.2599\n",
      "Epoch 19/100\n",
      "1176/1176 [==============================] - 0s 16us/step - loss: 2.2824 - accuracy: 0.2704 - val_loss: 2.2761 - val_accuracy: 0.2599\n",
      "Epoch 20/100\n",
      "1176/1176 [==============================] - 0s 14us/step - loss: 2.2666 - accuracy: 0.2704 - val_loss: 2.2608 - val_accuracy: 0.2599\n",
      "Epoch 21/100\n",
      "1176/1176 [==============================] - 0s 15us/step - loss: 2.2537 - accuracy: 0.2704 - val_loss: 2.2463 - val_accuracy: 0.2599\n",
      "Epoch 22/100\n",
      "1176/1176 [==============================] - 0s 15us/step - loss: 2.2384 - accuracy: 0.2704 - val_loss: 2.2326 - val_accuracy: 0.2599\n",
      "Epoch 23/100\n",
      "1176/1176 [==============================] - 0s 16us/step - loss: 2.2252 - accuracy: 0.2704 - val_loss: 2.2210 - val_accuracy: 0.2599\n",
      "Epoch 24/100\n",
      "1176/1176 [==============================] - 0s 15us/step - loss: 2.2180 - accuracy: 0.2704 - val_loss: 2.2103 - val_accuracy: 0.2599\n",
      "Epoch 25/100\n",
      "1176/1176 [==============================] - 0s 14us/step - loss: 2.2091 - accuracy: 0.2704 - val_loss: 2.2006 - val_accuracy: 0.2599\n",
      "Epoch 26/100\n",
      "1176/1176 [==============================] - 0s 14us/step - loss: 2.2001 - accuracy: 0.2704 - val_loss: 2.1912 - val_accuracy: 0.2599\n",
      "Epoch 27/100\n",
      "1176/1176 [==============================] - 0s 15us/step - loss: 2.1889 - accuracy: 0.2704 - val_loss: 2.1827 - val_accuracy: 0.2599\n",
      "Epoch 28/100\n",
      "1176/1176 [==============================] - 0s 14us/step - loss: 2.1803 - accuracy: 0.2704 - val_loss: 2.1749 - val_accuracy: 0.2599\n",
      "Epoch 29/100\n",
      "1176/1176 [==============================] - 0s 18us/step - loss: 2.1746 - accuracy: 0.2704 - val_loss: 2.1673 - val_accuracy: 0.2599\n",
      "Epoch 30/100\n",
      "1176/1176 [==============================] - 0s 16us/step - loss: 2.1692 - accuracy: 0.2704 - val_loss: 2.1608 - val_accuracy: 0.2599\n",
      "Epoch 31/100\n",
      "1176/1176 [==============================] - 0s 14us/step - loss: 2.1603 - accuracy: 0.2704 - val_loss: 2.1542 - val_accuracy: 0.2599\n",
      "Epoch 32/100\n",
      "1176/1176 [==============================] - 0s 15us/step - loss: 2.1555 - accuracy: 0.2704 - val_loss: 2.1487 - val_accuracy: 0.2599\n",
      "Epoch 33/100\n",
      "1176/1176 [==============================] - 0s 14us/step - loss: 2.1476 - accuracy: 0.2704 - val_loss: 2.1432 - val_accuracy: 0.2599\n",
      "Epoch 34/100\n",
      "1176/1176 [==============================] - 0s 15us/step - loss: 2.1444 - accuracy: 0.2704 - val_loss: 2.1383 - val_accuracy: 0.2599\n",
      "Epoch 35/100\n",
      "1176/1176 [==============================] - 0s 16us/step - loss: 2.1402 - accuracy: 0.2704 - val_loss: 2.1336 - val_accuracy: 0.2599\n",
      "Epoch 36/100\n",
      "1176/1176 [==============================] - 0s 16us/step - loss: 2.1364 - accuracy: 0.2704 - val_loss: 2.1290 - val_accuracy: 0.2599\n",
      "Epoch 37/100\n",
      "1176/1176 [==============================] - 0s 15us/step - loss: 2.1286 - accuracy: 0.2704 - val_loss: 2.1248 - val_accuracy: 0.2599\n",
      "Epoch 38/100\n"
     ]
    },
    {
     "name": "stdout",
     "output_type": "stream",
     "text": [
      "1176/1176 [==============================] - 0s 16us/step - loss: 2.1263 - accuracy: 0.2704 - val_loss: 2.1208 - val_accuracy: 0.2599\n",
      "Epoch 39/100\n",
      "1176/1176 [==============================] - 0s 15us/step - loss: 2.1211 - accuracy: 0.2704 - val_loss: 2.1170 - val_accuracy: 0.2599\n",
      "Epoch 40/100\n",
      "1176/1176 [==============================] - 0s 14us/step - loss: 2.1193 - accuracy: 0.2704 - val_loss: 2.1132 - val_accuracy: 0.2599\n",
      "Epoch 41/100\n",
      "1176/1176 [==============================] - 0s 15us/step - loss: 2.1142 - accuracy: 0.2704 - val_loss: 2.1098 - val_accuracy: 0.2599\n",
      "Epoch 42/100\n",
      "1176/1176 [==============================] - 0s 14us/step - loss: 2.1125 - accuracy: 0.2704 - val_loss: 2.1065 - val_accuracy: 0.2599\n",
      "Epoch 43/100\n",
      "1176/1176 [==============================] - 0s 14us/step - loss: 2.1087 - accuracy: 0.2704 - val_loss: 2.1033 - val_accuracy: 0.2599\n",
      "Epoch 44/100\n",
      "1176/1176 [==============================] - 0s 14us/step - loss: 2.1080 - accuracy: 0.2704 - val_loss: 2.1001 - val_accuracy: 0.2599\n",
      "Epoch 45/100\n",
      "1176/1176 [==============================] - 0s 15us/step - loss: 2.1009 - accuracy: 0.2704 - val_loss: 2.0971 - val_accuracy: 0.2599\n",
      "Epoch 46/100\n",
      "1176/1176 [==============================] - 0s 14us/step - loss: 2.1035 - accuracy: 0.2704 - val_loss: 2.0948 - val_accuracy: 0.2599\n",
      "Epoch 47/100\n",
      "1176/1176 [==============================] - 0s 14us/step - loss: 2.0984 - accuracy: 0.2704 - val_loss: 2.0927 - val_accuracy: 0.2599\n",
      "Epoch 48/100\n",
      "1176/1176 [==============================] - 0s 14us/step - loss: 2.0948 - accuracy: 0.2704 - val_loss: 2.0902 - val_accuracy: 0.2599\n",
      "Epoch 49/100\n",
      "1176/1176 [==============================] - 0s 14us/step - loss: 2.0986 - accuracy: 0.2704 - val_loss: 2.0880 - val_accuracy: 0.2599\n",
      "Epoch 50/100\n",
      "1176/1176 [==============================] - 0s 14us/step - loss: 2.0880 - accuracy: 0.2704 - val_loss: 2.0859 - val_accuracy: 0.2599\n",
      "Epoch 51/100\n",
      "1176/1176 [==============================] - 0s 15us/step - loss: 2.0868 - accuracy: 0.2704 - val_loss: 2.0838 - val_accuracy: 0.2599\n",
      "Epoch 52/100\n",
      "1176/1176 [==============================] - 0s 15us/step - loss: 2.0855 - accuracy: 0.2704 - val_loss: 2.0818 - val_accuracy: 0.2599\n",
      "Epoch 53/100\n",
      "1176/1176 [==============================] - 0s 15us/step - loss: 2.0894 - accuracy: 0.2704 - val_loss: 2.0798 - val_accuracy: 0.2599\n",
      "Epoch 54/100\n",
      "1176/1176 [==============================] - 0s 15us/step - loss: 2.0841 - accuracy: 0.2704 - val_loss: 2.0779 - val_accuracy: 0.2599\n",
      "Epoch 55/100\n",
      "1176/1176 [==============================] - 0s 19us/step - loss: 2.0850 - accuracy: 0.2704 - val_loss: 2.0763 - val_accuracy: 0.2599\n",
      "Epoch 56/100\n",
      "1176/1176 [==============================] - 0s 17us/step - loss: 2.0796 - accuracy: 0.2704 - val_loss: 2.0744 - val_accuracy: 0.2599\n",
      "Epoch 57/100\n",
      "1176/1176 [==============================] - 0s 15us/step - loss: 2.0805 - accuracy: 0.2704 - val_loss: 2.0724 - val_accuracy: 0.2599\n",
      "Epoch 58/100\n",
      "1176/1176 [==============================] - 0s 15us/step - loss: 2.0783 - accuracy: 0.2704 - val_loss: 2.0710 - val_accuracy: 0.2599\n",
      "Epoch 59/100\n",
      "1176/1176 [==============================] - 0s 14us/step - loss: 2.0766 - accuracy: 0.2704 - val_loss: 2.0693 - val_accuracy: 0.2599\n",
      "Epoch 60/100\n",
      "1176/1176 [==============================] - 0s 15us/step - loss: 2.0726 - accuracy: 0.2713 - val_loss: 2.0678 - val_accuracy: 0.2599\n",
      "Epoch 61/100\n",
      "1176/1176 [==============================] - 0s 15us/step - loss: 2.0744 - accuracy: 0.2704 - val_loss: 2.0665 - val_accuracy: 0.2599\n",
      "Epoch 62/100\n",
      "1176/1176 [==============================] - 0s 15us/step - loss: 2.0719 - accuracy: 0.2696 - val_loss: 2.0652 - val_accuracy: 0.2599\n",
      "Epoch 63/100\n",
      "1176/1176 [==============================] - 0s 15us/step - loss: 2.0730 - accuracy: 0.2713 - val_loss: 2.0643 - val_accuracy: 0.2599\n",
      "Epoch 64/100\n",
      "1176/1176 [==============================] - 0s 14us/step - loss: 2.0703 - accuracy: 0.2704 - val_loss: 2.0630 - val_accuracy: 0.2599\n",
      "Epoch 65/100\n",
      "1176/1176 [==============================] - 0s 14us/step - loss: 2.0691 - accuracy: 0.2704 - val_loss: 2.0617 - val_accuracy: 0.2599\n",
      "Epoch 66/100\n",
      "1176/1176 [==============================] - 0s 17us/step - loss: 2.0658 - accuracy: 0.2721 - val_loss: 2.0606 - val_accuracy: 0.2599\n",
      "Epoch 67/100\n",
      "1176/1176 [==============================] - 0s 16us/step - loss: 2.0694 - accuracy: 0.2704 - val_loss: 2.0595 - val_accuracy: 0.2599\n",
      "Epoch 68/100\n",
      "1176/1176 [==============================] - 0s 14us/step - loss: 2.0690 - accuracy: 0.2713 - val_loss: 2.0586 - val_accuracy: 0.2599\n",
      "Epoch 69/100\n",
      "1176/1176 [==============================] - 0s 14us/step - loss: 2.0650 - accuracy: 0.2696 - val_loss: 2.0574 - val_accuracy: 0.2599\n",
      "Epoch 70/100\n",
      "1176/1176 [==============================] - 0s 14us/step - loss: 2.0581 - accuracy: 0.2713 - val_loss: 2.0565 - val_accuracy: 0.2599\n",
      "Epoch 71/100\n",
      "1176/1176 [==============================] - 0s 14us/step - loss: 2.0651 - accuracy: 0.2713 - val_loss: 2.0552 - val_accuracy: 0.2599\n",
      "Epoch 72/100\n",
      "1176/1176 [==============================] - 0s 14us/step - loss: 2.0572 - accuracy: 0.2696 - val_loss: 2.0542 - val_accuracy: 0.2599\n",
      "Epoch 73/100\n",
      "1176/1176 [==============================] - 0s 16us/step - loss: 2.0580 - accuracy: 0.2704 - val_loss: 2.0536 - val_accuracy: 0.2599\n",
      "Epoch 74/100\n",
      "1176/1176 [==============================] - 0s 14us/step - loss: 2.0603 - accuracy: 0.2704 - val_loss: 2.0527 - val_accuracy: 0.2599\n",
      "Epoch 75/100\n",
      "1176/1176 [==============================] - 0s 14us/step - loss: 2.0588 - accuracy: 0.2704 - val_loss: 2.0519 - val_accuracy: 0.2599\n",
      "Epoch 76/100\n",
      "1176/1176 [==============================] - 0s 15us/step - loss: 2.0563 - accuracy: 0.2704 - val_loss: 2.0509 - val_accuracy: 0.2599\n",
      "Epoch 77/100\n",
      "1176/1176 [==============================] - 0s 15us/step - loss: 2.0559 - accuracy: 0.2704 - val_loss: 2.0501 - val_accuracy: 0.2599\n",
      "Epoch 78/100\n",
      "1176/1176 [==============================] - 0s 14us/step - loss: 2.0571 - accuracy: 0.2696 - val_loss: 2.0494 - val_accuracy: 0.2599\n",
      "Epoch 79/100\n",
      "1176/1176 [==============================] - 0s 15us/step - loss: 2.0542 - accuracy: 0.2721 - val_loss: 2.0486 - val_accuracy: 0.2599\n",
      "Epoch 80/100\n",
      "1176/1176 [==============================] - 0s 16us/step - loss: 2.0527 - accuracy: 0.2704 - val_loss: 2.0477 - val_accuracy: 0.2599\n",
      "Epoch 81/100\n",
      "1176/1176 [==============================] - 0s 15us/step - loss: 2.0582 - accuracy: 0.2704 - val_loss: 2.0470 - val_accuracy: 0.2599\n",
      "Epoch 82/100\n",
      "1176/1176 [==============================] - 0s 14us/step - loss: 2.0529 - accuracy: 0.2704 - val_loss: 2.0462 - val_accuracy: 0.2599\n",
      "Epoch 83/100\n",
      "1176/1176 [==============================] - 0s 14us/step - loss: 2.0493 - accuracy: 0.2704 - val_loss: 2.0456 - val_accuracy: 0.2599\n",
      "Epoch 84/100\n",
      "1176/1176 [==============================] - 0s 14us/step - loss: 2.0540 - accuracy: 0.2704 - val_loss: 2.0448 - val_accuracy: 0.2599\n",
      "Epoch 85/100\n",
      "1176/1176 [==============================] - 0s 14us/step - loss: 2.0505 - accuracy: 0.2704 - val_loss: 2.0442 - val_accuracy: 0.2599\n",
      "Epoch 86/100\n",
      "1176/1176 [==============================] - 0s 15us/step - loss: 2.0463 - accuracy: 0.2713 - val_loss: 2.0436 - val_accuracy: 0.2599\n",
      "Epoch 87/100\n",
      "1176/1176 [==============================] - 0s 14us/step - loss: 2.0495 - accuracy: 0.2679 - val_loss: 2.0430 - val_accuracy: 0.2599\n",
      "Epoch 88/100\n",
      "1176/1176 [==============================] - 0s 15us/step - loss: 2.0513 - accuracy: 0.2713 - val_loss: 2.0424 - val_accuracy: 0.2599\n",
      "Epoch 89/100\n",
      "1176/1176 [==============================] - 0s 15us/step - loss: 2.0451 - accuracy: 0.2713 - val_loss: 2.0418 - val_accuracy: 0.2599\n",
      "Epoch 90/100\n",
      "1176/1176 [==============================] - 0s 14us/step - loss: 2.0467 - accuracy: 0.2704 - val_loss: 2.0412 - val_accuracy: 0.2599\n",
      "Epoch 91/100\n",
      "1176/1176 [==============================] - 0s 16us/step - loss: 2.0507 - accuracy: 0.2704 - val_loss: 2.0405 - val_accuracy: 0.2599\n",
      "Epoch 92/100\n",
      "1176/1176 [==============================] - 0s 14us/step - loss: 2.0463 - accuracy: 0.2696 - val_loss: 2.0401 - val_accuracy: 0.2599\n",
      "Epoch 93/100\n",
      "1176/1176 [==============================] - 0s 16us/step - loss: 2.0449 - accuracy: 0.2696 - val_loss: 2.0398 - val_accuracy: 0.2599\n"
     ]
    },
    {
     "name": "stdout",
     "output_type": "stream",
     "text": [
      "Epoch 94/100\n",
      "1176/1176 [==============================] - 0s 14us/step - loss: 2.0432 - accuracy: 0.2696 - val_loss: 2.0394 - val_accuracy: 0.2599\n",
      "Epoch 95/100\n",
      "1176/1176 [==============================] - 0s 14us/step - loss: 2.0451 - accuracy: 0.2721 - val_loss: 2.0387 - val_accuracy: 0.2599\n",
      "Epoch 96/100\n",
      "1176/1176 [==============================] - 0s 13us/step - loss: 2.0445 - accuracy: 0.2704 - val_loss: 2.0384 - val_accuracy: 0.2599\n",
      "Epoch 97/100\n",
      "1176/1176 [==============================] - 0s 14us/step - loss: 2.0387 - accuracy: 0.2704 - val_loss: 2.0380 - val_accuracy: 0.2599\n",
      "Epoch 98/100\n",
      "1176/1176 [==============================] - 0s 14us/step - loss: 2.0444 - accuracy: 0.2704 - val_loss: 2.0374 - val_accuracy: 0.2599\n",
      "Epoch 99/100\n",
      "1176/1176 [==============================] - 0s 14us/step - loss: 2.0424 - accuracy: 0.2713 - val_loss: 2.0370 - val_accuracy: 0.2599\n",
      "Epoch 100/100\n",
      "1176/1176 [==============================] - 0s 14us/step - loss: 2.0446 - accuracy: 0.2679 - val_loss: 2.0364 - val_accuracy: 0.2599\n"
     ]
    }
   ],
   "source": [
    "from keras.layers import Conv2D, MaxPooling2D, Input\n",
    "inputs = Input(shape=(6,))\n",
    "x = Dense(3, activation='tanh',kernel_initializer='random_uniform')(inputs)\n",
    "x = Dense(20, activation='tanh')(x)\n",
    "x = Dropout(0.25)(x)\n",
    "\n",
    "y = Dense(4, activation='sigmoid')(inputs)\n",
    "y = Dense(20, activation='sigmoid')(y)\n",
    "\n",
    "z = Dense(5, activation='relu')(inputs)\n",
    "z = Dense(20, activation='relu')(z)\n",
    "\n",
    "\n",
    "merged  = concatenate([x, y,z], axis=1)\n",
    "output = Dense(20, activation='softmax')(merged )\n",
    "model = Model(inputs=inputs, outputs=output)\n",
    "\n",
    "sgd = optimizers.SGD(lr=0.01, momentum=0.01, decay=0.001, nesterov=False)\n",
    "model.summary()\n",
    "model.compile(optimizer=sgd,\n",
    "              loss='categorical_crossentropy',\n",
    "              metrics=['accuracy'])\n",
    "history = model.fit(train_data,train_targets,\n",
    "                   epochs=100,\n",
    "                   batch_size=128,\n",
    "                   validation_data=(test_data,test_targets))"
   ]
  },
  {
   "cell_type": "code",
   "execution_count": 49,
   "metadata": {
    "scrolled": true
   },
   "outputs": [
    {
     "name": "stderr",
     "output_type": "stream",
     "text": [
      "C:\\ProgramData\\Anaconda3\\lib\\site-packages\\matplotlib\\backends\\backend_agg.py:211: RuntimeWarning: Glyph 35347 missing from current font.\n",
      "  font.set_text(s, 0.0, flags=flags)\n",
      "C:\\ProgramData\\Anaconda3\\lib\\site-packages\\matplotlib\\backends\\backend_agg.py:211: RuntimeWarning: Glyph 32244 missing from current font.\n",
      "  font.set_text(s, 0.0, flags=flags)\n",
      "C:\\ProgramData\\Anaconda3\\lib\\site-packages\\matplotlib\\backends\\backend_agg.py:211: RuntimeWarning: Glyph 33287 missing from current font.\n",
      "  font.set_text(s, 0.0, flags=flags)\n",
      "C:\\ProgramData\\Anaconda3\\lib\\site-packages\\matplotlib\\backends\\backend_agg.py:211: RuntimeWarning: Glyph 39511 missing from current font.\n",
      "  font.set_text(s, 0.0, flags=flags)\n",
      "C:\\ProgramData\\Anaconda3\\lib\\site-packages\\matplotlib\\backends\\backend_agg.py:211: RuntimeWarning: Glyph 35657 missing from current font.\n",
      "  font.set_text(s, 0.0, flags=flags)\n",
      "C:\\ProgramData\\Anaconda3\\lib\\site-packages\\matplotlib\\backends\\backend_agg.py:211: RuntimeWarning: Glyph 30340 missing from current font.\n",
      "  font.set_text(s, 0.0, flags=flags)\n",
      "C:\\ProgramData\\Anaconda3\\lib\\site-packages\\matplotlib\\backends\\backend_agg.py:211: RuntimeWarning: Glyph 25613 missing from current font.\n",
      "  font.set_text(s, 0.0, flags=flags)\n",
      "C:\\ProgramData\\Anaconda3\\lib\\site-packages\\matplotlib\\backends\\backend_agg.py:211: RuntimeWarning: Glyph 22833 missing from current font.\n",
      "  font.set_text(s, 0.0, flags=flags)\n",
      "C:\\ProgramData\\Anaconda3\\lib\\site-packages\\matplotlib\\backends\\backend_agg.py:211: RuntimeWarning: Glyph 20989 missing from current font.\n",
      "  font.set_text(s, 0.0, flags=flags)\n",
      "C:\\ProgramData\\Anaconda3\\lib\\site-packages\\matplotlib\\backends\\backend_agg.py:211: RuntimeWarning: Glyph 25976 missing from current font.\n",
      "  font.set_text(s, 0.0, flags=flags)\n",
      "C:\\ProgramData\\Anaconda3\\lib\\site-packages\\matplotlib\\backends\\backend_agg.py:180: RuntimeWarning: Glyph 35347 missing from current font.\n",
      "  font.set_text(s, 0, flags=flags)\n",
      "C:\\ProgramData\\Anaconda3\\lib\\site-packages\\matplotlib\\backends\\backend_agg.py:180: RuntimeWarning: Glyph 32244 missing from current font.\n",
      "  font.set_text(s, 0, flags=flags)\n",
      "C:\\ProgramData\\Anaconda3\\lib\\site-packages\\matplotlib\\backends\\backend_agg.py:180: RuntimeWarning: Glyph 33287 missing from current font.\n",
      "  font.set_text(s, 0, flags=flags)\n",
      "C:\\ProgramData\\Anaconda3\\lib\\site-packages\\matplotlib\\backends\\backend_agg.py:180: RuntimeWarning: Glyph 39511 missing from current font.\n",
      "  font.set_text(s, 0, flags=flags)\n",
      "C:\\ProgramData\\Anaconda3\\lib\\site-packages\\matplotlib\\backends\\backend_agg.py:180: RuntimeWarning: Glyph 35657 missing from current font.\n",
      "  font.set_text(s, 0, flags=flags)\n",
      "C:\\ProgramData\\Anaconda3\\lib\\site-packages\\matplotlib\\backends\\backend_agg.py:180: RuntimeWarning: Glyph 30340 missing from current font.\n",
      "  font.set_text(s, 0, flags=flags)\n",
      "C:\\ProgramData\\Anaconda3\\lib\\site-packages\\matplotlib\\backends\\backend_agg.py:180: RuntimeWarning: Glyph 25613 missing from current font.\n",
      "  font.set_text(s, 0, flags=flags)\n",
      "C:\\ProgramData\\Anaconda3\\lib\\site-packages\\matplotlib\\backends\\backend_agg.py:180: RuntimeWarning: Glyph 22833 missing from current font.\n",
      "  font.set_text(s, 0, flags=flags)\n",
      "C:\\ProgramData\\Anaconda3\\lib\\site-packages\\matplotlib\\backends\\backend_agg.py:180: RuntimeWarning: Glyph 20989 missing from current font.\n",
      "  font.set_text(s, 0, flags=flags)\n",
      "C:\\ProgramData\\Anaconda3\\lib\\site-packages\\matplotlib\\backends\\backend_agg.py:180: RuntimeWarning: Glyph 25976 missing from current font.\n",
      "  font.set_text(s, 0, flags=flags)\n"
     ]
    },
    {
     "data": {
      "image/png": "[encoded data removed]",
      "text/plain": [
       "<Figure size 432x288 with 1 Axes>"
      ]
     },
     "metadata": {
      "needs_background": "light"
     },
     "output_type": "display_data"
    }
   ],
   "source": [
    "#繪圖\n",
    "\n",
    "loss = history.history['loss']\n",
    "val_loss = history.history['val_loss']\n",
    "epochs = range(1, len(loss)+ 1)\n",
    "plt.plot(epochs, loss,'bo',label='Training loss')\n",
    "plt.plot(epochs, val_loss,'b',label='Validation loss')\n",
    "plt.title('訓練與驗證的損失函數')\n",
    "plt.xlabel('Epohs')\n",
    "plt.xlabel('Loss')\n",
    "plt.legend()\n",
    "plt.show()"
   ]
  },
  {
   "cell_type": "code",
   "execution_count": 50,
   "metadata": {},
   "outputs": [
    {
     "data": {
      "image/png": "[encoded data removed]",
      "text/plain": [
       "<Figure size 432x288 with 1 Axes>"
      ]
     },
     "metadata": {
      "needs_background": "light"
     },
     "output_type": "display_data"
    }
   ],
   "source": [
    "plt.clf()\n",
    "acc = history.history['accuracy']\n",
    "val_acc=history.history['val_accuracy']\n",
    "\n",
    "plt.plot(epochs, acc, 'bo',label='Training acc')\n",
    "plt.plot(epochs, val_acc,'b',label='Validation acc')\n",
    "plt.title('TAT')\n",
    "plt.xlabel('Epohs')\n",
    "plt.xlabel('Accuracy')\n",
    "plt.legend()\n",
    "plt.show()"
   ]
  },
  {
   "cell_type": "code",
   "execution_count": 2,
   "metadata": {},
   "outputs": [],
   "source": [
    "def get_model(inp):#重新建立模型，与原来不一样的是这里inp是传入\n",
    "    n_classes = 10\n",
    "    #inp=Input(shape=(120,39))#原来的inp是函数里，传入可以三个公用\n",
    "    reshape=Reshape((1,120,39))(inp)\n",
    " #   pre=ZeroPadding2D(padding=(1, 1))(reshape)\n",
    "    # 1\n",
    "    #reshape=BatchNormalization()(reshape)\n",
    "    conv1=Convolution2D(32, 3, 3, border_mode='same',init='glorot_uniform')(reshape)\n",
    "    #model.add(Activation('relu'))\n",
    "    l1=PReLU()(conv1)\n",
    "    l1=BatchNormalization()(l1)\n",
    " \n",
    "    conv2=ZeroPadding2D(padding=(1, 1))(l1)\n",
    "    conv2=Convolution2D(32, 3, 3, border_mode='same',init='glorot_uniform')(conv2)\n",
    "    #model.add(Activation('relu'))\n",
    "    l2=PReLU()(conv2)\n",
    "    l2=BatchNormalization()(l2)\n",
    " \n",
    "    m2=AveragePooling2D((3, 3), strides=(3, 3))(l2)\n",
    "    d2=Dropout(0.25)(m2)\n",
    "    # 2\n",
    "    conv3=ZeroPadding2D(padding=(1, 1))(d2)\n",
    "    conv3=Convolution2D(64, 3, 3, border_mode='same',init='glorot_uniform')(conv3)\n",
    "    #model.add(Activation('relu'))\n",
    "    l3=PReLU()(conv3)\n",
    "    l3=BatchNormalization()(l3)\n",
    " \n",
    "    conv4=ZeroPadding2D(padding=(1, 1))(l3)\n",
    "    conv4=Convolution2D(64, 3, 3, border_mode='same',init='glorot_uniform')(conv4)\n",
    "    #model.add(Activation('relu'))\n",
    "    l4=PReLU()(conv4)\n",
    "    l4=BatchNormalization()(l4)\n",
    " \n",
    "    m4=AveragePooling2D((3, 3), strides=(3, 3))(l4)\n",
    "    d4=Dropout(0.25)(m4)\n",
    "    \n",
    "    g=GlobalAveragePooling2D()(d4)\n",
    "#4\n",
    "#    conv4=Convolution2D(32, 3, 3, border_mode='same',init='glorot_uniform')(d3)\n",
    "#    conv4=BatchNormalization()(conv4)\n",
    "#    #model.add(Activation('relu'))\n",
    "#    l4=LeakyReLU(alpha=0.33)(conv4)\n",
    "#    m4=MaxPooling2D((2, 2))(l4)\n",
    "#    d4=Dropout(0.25)(m4)\n",
    "    \n",
    "    #f=Flatten()(g)\n",
    "    Den=Dense(1024)(g)\n",
    "    #model.add(Activation('relu'))\n",
    "    ld=PReLU()(Den)\n",
    "    ld=Dropout(0.5)(ld)\n",
    "    result=Dense(n_classes, activation='softmax')(ld)\n",
    " \n",
    " \n",
    " \n",
    "    model=Model(input=inp,outputs=result)\n",
    "    return model\n"
   ]
  },
  {
   "cell_type": "code",
   "execution_count": 5,
   "metadata": {},
   "outputs": [],
   "source": [
    "\n",
    "def merge_model():\n",
    "    inp=Input(shape=(120,39))#融合主要就是Input是同样的，所以重新建立模型\n",
    "    model1=get_model(inp)\n",
    "    model2=get_model(inp)\n",
    "    model3=get_model(inp)\n",
    "    model1.load_weights(model_path+\"CNN_mfcc1.h5\")#加载各自权重\n",
    "    model2.load_weights(model_path+\"CNN_mfcc2.h5\")#加载各自权重\n",
    "    model3.load_weights(model_path+\"CNN_mfcc3.h5\")#加载各自权重\n",
    "    \n",
    "    r1=model1.output#获得输出\n",
    "    r2=model2.output\n",
    "    r3=model3.output\n",
    "    \n",
    "    x=concatenate([r1,r2,r3],axis=1)#拼接输出，融合成功\n",
    "    model=Model(input=inp,outputs=x)\n",
    "    return model\n"
   ]
  },
  {
   "cell_type": "code",
   "execution_count": 8,
   "metadata": {},
   "outputs": [
    {
     "ename": "NameError",
     "evalue": "name 'origin_model' is not defined",
     "output_type": "error",
     "traceback": [
      "\u001b[1;31m---------------------------------------------------------------------------\u001b[0m",
      "\u001b[1;31mNameError\u001b[0m                                 Traceback (most recent call last)",
      "\u001b[1;32m<ipython-input-8-0f54e6ff15f9>\u001b[0m in \u001b[0;36m<module>\u001b[1;34m\u001b[0m\n\u001b[1;32m----> 1\u001b[1;33m \u001b[0minp\u001b[0m\u001b[1;33m=\u001b[0m\u001b[0morigin_model\u001b[0m\u001b[1;33m.\u001b[0m\u001b[0minput\u001b[0m\u001b[1;33m\u001b[0m\u001b[1;33m\u001b[0m\u001b[0m\n\u001b[0m\u001b[0;32m      2\u001b[0m \u001b[0mx\u001b[0m\u001b[1;33m=\u001b[0m\u001b[0morigin_model\u001b[0m\u001b[1;33m.\u001b[0m\u001b[0moutput\u001b[0m\u001b[1;33m\u001b[0m\u001b[1;33m\u001b[0m\u001b[0m\n\u001b[0;32m      3\u001b[0m \u001b[1;33m\u001b[0m\u001b[0m\n\u001b[0;32m      4\u001b[0m \u001b[0mden\u001b[0m\u001b[1;33m=\u001b[0m\u001b[0mDense\u001b[0m\u001b[1;33m(\u001b[0m\u001b[1;36m200\u001b[0m\u001b[1;33m,\u001b[0m\u001b[0mname\u001b[0m\u001b[1;33m=\u001b[0m\u001b[1;34m\"fine_dense\"\u001b[0m\u001b[1;33m)\u001b[0m\u001b[1;33m(\u001b[0m\u001b[0mx\u001b[0m\u001b[1;33m)\u001b[0m\u001b[1;33m\u001b[0m\u001b[1;33m\u001b[0m\u001b[0m\n\u001b[0;32m      5\u001b[0m \u001b[0ml\u001b[0m\u001b[1;33m=\u001b[0m\u001b[0mPReLU\u001b[0m\u001b[1;33m(\u001b[0m\u001b[1;33m)\u001b[0m\u001b[1;33m(\u001b[0m\u001b[0mden\u001b[0m\u001b[1;33m)\u001b[0m\u001b[1;33m\u001b[0m\u001b[1;33m\u001b[0m\u001b[0m\n",
      "\u001b[1;31mNameError\u001b[0m: name 'origin_model' is not defined"
     ]
    }
   ],
   "source": [
    "\n",
    "\n",
    "inp=origin_model.input\n",
    "x=origin_model.output\n",
    "\n",
    "den=Dense(200,name=\"fine_dense\")(x)\n",
    "l=PReLU()(den)\n",
    "l=Dropout(0.5)(l)\n",
    "result=Dense(10,activation=\"softmax\")(l)\n",
    "\n",
    "model=Model(input=inp,outputs=result)\n",
    "model.summary()\n",
    "#编译model\n",
    "adam = keras.optimizers.Adam(lr = 0.0005, beta_1=0.95, beta_2=0.999,epsilon=1e-08)\n",
    "#adam = keras.optimizers.Adam(lr = 0.001, beta_1=0.95, beta_2=0.999,epsilon=1e-08)\n",
    "#sgd = keras.optimizers.SGD(lr = 0.001, decay = 1e-06, momentum = 0.9, nesterov = False)\n",
    "\n",
    "#reduce_lr = ReduceLROnPlateau(monitor = 'loss', factor = 0.1, patience = 2,verbose = 1, min_lr = 0.00000001, mode = 'min')\n",
    "model.compile(loss='categorical_crossentropy', optimizer=adam, metrics=['accuracy'])\n",
    "\n"
   ]
  },
  {
   "cell_type": "code",
   "execution_count": null,
   "metadata": {},
   "outputs": [],
   "source": [
    "inputs = Input(shape=(6,))\n",
    "\n",
    "# a layer instance is callable on a tensor, and returns a tensor\n",
    "x = Dense(64, activation='relu')(inputs)\n",
    "x = Dense(64, activation='relu')(x)\n",
    "predictions = Dense(20, activation='softmax')(x)\n",
    "\n",
    "# This creates a model that includes\n",
    "# the Input layer and three Dense layers\n",
    "model = Model(inputs=inputs, outputs=predictions)\n",
    "model.compile(optimizer='rmsprop',\n",
    "              loss='categorical_crossentropy',\n",
    "              metrics=['accuracy'])\n",
    "history = model.fit(train_data,train_targets,\n",
    "                   epochs=20,\n",
    "                   batch_size=32,\n",
    "                   validation_data=(test_data,test_targets))"
   ]
  }
 ],
 "metadata": {
  "kernelspec": {
   "display_name": "Python 3",
   "language": "python",
   "name": "python3"
  },
  "language_info": {
   "codemirror_mode": {
    "name": "ipython",
    "version": 3
   },
   "file_extension": ".py",
   "mimetype": "text/x-python",
   "name": "python",
   "nbconvert_exporter": "python",
   "pygments_lexer": "ipython3",
   "version": "3.7.3"
  }
 },
 "nbformat": 4,
 "nbformat_minor": 2
}
